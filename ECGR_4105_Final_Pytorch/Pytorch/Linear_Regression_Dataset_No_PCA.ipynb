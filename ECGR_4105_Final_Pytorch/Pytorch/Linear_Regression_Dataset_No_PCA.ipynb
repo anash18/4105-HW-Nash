{
  "nbformat": 4,
  "nbformat_minor": 0,
  "metadata": {
    "colab": {
      "provenance": [],
      "gpuType": "T4",
      "include_colab_link": true
    },
    "kernelspec": {
      "name": "python3",
      "display_name": "Python 3"
    },
    "language_info": {
      "name": "python"
    },
    "accelerator": "GPU"
  },
  "cells": [
    {
      "cell_type": "markdown",
      "metadata": {
        "id": "view-in-github",
        "colab_type": "text"
      },
      "source": [
        "<a href=\"https://colab.research.google.com/github/anash18/4105-HW-Nash/blob/main/ECGR_4105_Final_Pytorch/Pytorch/Linear_Regression_Dataset_No_PCA.ipynb\" target=\"_parent\"><img src=\"https://colab.research.google.com/assets/colab-badge.svg\" alt=\"Open In Colab\"/></a>"
      ]
    },
    {
      "cell_type": "code",
      "source": [
        "import torch\n",
        "import torch.nn as nn\n",
        "import numpy as np\n",
        "import matplotlib.pyplot as plt\n",
        "import pandas as pd\n",
        "from sklearn.model_selection import train_test_split\n",
        "from sklearn.preprocessing import StandardScaler\n",
        "import torch.optim as optim\n",
        "from collections import OrderedDict\n",
        "from torchvision import datasets\n",
        "from torchvision import transforms\n",
        "from sklearn.decomposition import PCA\n",
        "from sklearn import metrics\n",
        "from sklearn.metrics import precision_score, recall_score, accuracy_score\n",
        "from google.colab import drive\n",
        "\n",
        "!pip install ipython-autotime\n",
        "%load_ext autotime"
      ],
      "metadata": {
        "colab": {
          "base_uri": "https://localhost:8080/"
        },
        "id": "ec0Ko8I0ouYB",
        "outputId": "1a20036b-ab2d-4d09-b575-8e9b8c40c7aa"
      },
      "execution_count": null,
      "outputs": [
        {
          "output_type": "stream",
          "name": "stdout",
          "text": [
            "Requirement already satisfied: ipython-autotime in /usr/local/lib/python3.10/dist-packages (0.3.2)\n",
            "Requirement already satisfied: ipython in /usr/local/lib/python3.10/dist-packages (from ipython-autotime) (7.34.0)\n",
            "Requirement already satisfied: setuptools>=18.5 in /usr/local/lib/python3.10/dist-packages (from ipython->ipython-autotime) (67.7.2)\n",
            "Requirement already satisfied: jedi>=0.16 in /usr/local/lib/python3.10/dist-packages (from ipython->ipython-autotime) (0.19.1)\n",
            "Requirement already satisfied: decorator in /usr/local/lib/python3.10/dist-packages (from ipython->ipython-autotime) (4.4.2)\n",
            "Requirement already satisfied: pickleshare in /usr/local/lib/python3.10/dist-packages (from ipython->ipython-autotime) (0.7.5)\n",
            "Requirement already satisfied: traitlets>=4.2 in /usr/local/lib/python3.10/dist-packages (from ipython->ipython-autotime) (5.7.1)\n",
            "Requirement already satisfied: prompt-toolkit!=3.0.0,!=3.0.1,<3.1.0,>=2.0.0 in /usr/local/lib/python3.10/dist-packages (from ipython->ipython-autotime) (3.0.43)\n",
            "Requirement already satisfied: pygments in /usr/local/lib/python3.10/dist-packages (from ipython->ipython-autotime) (2.16.1)\n",
            "Requirement already satisfied: backcall in /usr/local/lib/python3.10/dist-packages (from ipython->ipython-autotime) (0.2.0)\n",
            "Requirement already satisfied: matplotlib-inline in /usr/local/lib/python3.10/dist-packages (from ipython->ipython-autotime) (0.1.6)\n",
            "Requirement already satisfied: pexpect>4.3 in /usr/local/lib/python3.10/dist-packages (from ipython->ipython-autotime) (4.9.0)\n",
            "Requirement already satisfied: parso<0.9.0,>=0.8.3 in /usr/local/lib/python3.10/dist-packages (from jedi>=0.16->ipython->ipython-autotime) (0.8.3)\n",
            "Requirement already satisfied: ptyprocess>=0.5 in /usr/local/lib/python3.10/dist-packages (from pexpect>4.3->ipython->ipython-autotime) (0.7.0)\n",
            "Requirement already satisfied: wcwidth in /usr/local/lib/python3.10/dist-packages (from prompt-toolkit!=3.0.0,!=3.0.1,<3.1.0,>=2.0.0->ipython->ipython-autotime) (0.2.12)\n",
            "The autotime extension is already loaded. To reload it, use:\n",
            "  %reload_ext autotime\n",
            "time: 6.23 s (started: 2023-12-15 22:44:48 +00:00)\n"
          ]
        }
      ]
    },
    {
      "cell_type": "code",
      "source": [
        "drive.mount('/content/drive')"
      ],
      "metadata": {
        "colab": {
          "base_uri": "https://localhost:8080/"
        },
        "id": "V7tdD5jWo6Mq",
        "outputId": "01efeadf-0e98-4ad3-99e6-9691c7cc29d6"
      },
      "execution_count": null,
      "outputs": [
        {
          "output_type": "stream",
          "name": "stdout",
          "text": [
            "Drive already mounted at /content/drive; to attempt to forcibly remount, call drive.mount(\"/content/drive\", force_remount=True).\n",
            "time: 1.54 s (started: 2023-12-15 22:44:54 +00:00)\n"
          ]
        }
      ]
    },
    {
      "cell_type": "code",
      "source": [
        "file_path = '/content/drive/MyDrive/Colab_Notebooks/Data/Processed Combined Final Dataset.csv'\n",
        "\n",
        "heart_attack = pd.read_csv(file_path)\n",
        "\n",
        "heart_attack.head()"
      ],
      "metadata": {
        "colab": {
          "base_uri": "https://localhost:8080/",
          "height": 325
        },
        "id": "6j_dP8azpBBF",
        "outputId": "a98bf4a8-7a3f-4715-d22c-901d3069fb63"
      },
      "execution_count": null,
      "outputs": [
        {
          "output_type": "execute_result",
          "data": {
            "text/plain": [
              "   Age  Sex  Blood Pressure  Cholesterol  Heart Rate  Diabetes  \\\n",
              "0   40    1             140          289  304.342082       1.0   \n",
              "1   49    0             160          180  425.888148       1.0   \n",
              "2   37    1             130          283  299.019353       1.0   \n",
              "3   48    0             138          214  375.511197       1.0   \n",
              "4   54    1             150          195  408.567916       1.0   \n",
              "\n",
              "   Family History  Smoking  Obesity  Alcohol Consumption  ...  \\\n",
              "0             1.0      1.0      1.0                  1.0  ...   \n",
              "1             1.0      1.0      1.0                  1.0  ...   \n",
              "2             1.0      1.0      1.0                  1.0  ...   \n",
              "3             1.0      1.0      1.0                  1.0  ...   \n",
              "4             1.0      1.0      1.0                  1.0  ...   \n",
              "\n",
              "   Sedentary Hours Per Day      Income         BMI  Triglycerides  \\\n",
              "0               304.342082  304.342082  304.342082     304.342082   \n",
              "1               425.888148  425.888148  425.888148     425.888148   \n",
              "2               299.019353  299.019353  299.019353     299.019353   \n",
              "3               375.511197  375.511197  375.511197     375.511197   \n",
              "4               408.567916  408.567916  408.567916     408.567916   \n",
              "\n",
              "   Physical Activity Days Per Week  Sleep Hours Per Day  Country  Continent  \\\n",
              "0                              5.0                  5.0      5.0        5.0   \n",
              "1                              7.0                  7.0      7.0        7.0   \n",
              "2                              5.0                  5.0      5.0        5.0   \n",
              "3                              5.0                  5.0      5.0        5.0   \n",
              "4                              5.0                  5.0      5.0        5.0   \n",
              "\n",
              "   Hemisphere  Heart Risk  \n",
              "0         1.0           0  \n",
              "1         1.0           1  \n",
              "2         1.0           0  \n",
              "3         1.0           1  \n",
              "4         1.0           0  \n",
              "\n",
              "[5 rows x 25 columns]"
            ],
            "text/html": [
              "\n",
              "  <div id=\"df-b5d5c068-4bec-48a6-adac-8273b15514a0\" class=\"colab-df-container\">\n",
              "    <div>\n",
              "<style scoped>\n",
              "    .dataframe tbody tr th:only-of-type {\n",
              "        vertical-align: middle;\n",
              "    }\n",
              "\n",
              "    .dataframe tbody tr th {\n",
              "        vertical-align: top;\n",
              "    }\n",
              "\n",
              "    .dataframe thead th {\n",
              "        text-align: right;\n",
              "    }\n",
              "</style>\n",
              "<table border=\"1\" class=\"dataframe\">\n",
              "  <thead>\n",
              "    <tr style=\"text-align: right;\">\n",
              "      <th></th>\n",
              "      <th>Age</th>\n",
              "      <th>Sex</th>\n",
              "      <th>Blood Pressure</th>\n",
              "      <th>Cholesterol</th>\n",
              "      <th>Heart Rate</th>\n",
              "      <th>Diabetes</th>\n",
              "      <th>Family History</th>\n",
              "      <th>Smoking</th>\n",
              "      <th>Obesity</th>\n",
              "      <th>Alcohol Consumption</th>\n",
              "      <th>...</th>\n",
              "      <th>Sedentary Hours Per Day</th>\n",
              "      <th>Income</th>\n",
              "      <th>BMI</th>\n",
              "      <th>Triglycerides</th>\n",
              "      <th>Physical Activity Days Per Week</th>\n",
              "      <th>Sleep Hours Per Day</th>\n",
              "      <th>Country</th>\n",
              "      <th>Continent</th>\n",
              "      <th>Hemisphere</th>\n",
              "      <th>Heart Risk</th>\n",
              "    </tr>\n",
              "  </thead>\n",
              "  <tbody>\n",
              "    <tr>\n",
              "      <th>0</th>\n",
              "      <td>40</td>\n",
              "      <td>1</td>\n",
              "      <td>140</td>\n",
              "      <td>289</td>\n",
              "      <td>304.342082</td>\n",
              "      <td>1.0</td>\n",
              "      <td>1.0</td>\n",
              "      <td>1.0</td>\n",
              "      <td>1.0</td>\n",
              "      <td>1.0</td>\n",
              "      <td>...</td>\n",
              "      <td>304.342082</td>\n",
              "      <td>304.342082</td>\n",
              "      <td>304.342082</td>\n",
              "      <td>304.342082</td>\n",
              "      <td>5.0</td>\n",
              "      <td>5.0</td>\n",
              "      <td>5.0</td>\n",
              "      <td>5.0</td>\n",
              "      <td>1.0</td>\n",
              "      <td>0</td>\n",
              "    </tr>\n",
              "    <tr>\n",
              "      <th>1</th>\n",
              "      <td>49</td>\n",
              "      <td>0</td>\n",
              "      <td>160</td>\n",
              "      <td>180</td>\n",
              "      <td>425.888148</td>\n",
              "      <td>1.0</td>\n",
              "      <td>1.0</td>\n",
              "      <td>1.0</td>\n",
              "      <td>1.0</td>\n",
              "      <td>1.0</td>\n",
              "      <td>...</td>\n",
              "      <td>425.888148</td>\n",
              "      <td>425.888148</td>\n",
              "      <td>425.888148</td>\n",
              "      <td>425.888148</td>\n",
              "      <td>7.0</td>\n",
              "      <td>7.0</td>\n",
              "      <td>7.0</td>\n",
              "      <td>7.0</td>\n",
              "      <td>1.0</td>\n",
              "      <td>1</td>\n",
              "    </tr>\n",
              "    <tr>\n",
              "      <th>2</th>\n",
              "      <td>37</td>\n",
              "      <td>1</td>\n",
              "      <td>130</td>\n",
              "      <td>283</td>\n",
              "      <td>299.019353</td>\n",
              "      <td>1.0</td>\n",
              "      <td>1.0</td>\n",
              "      <td>1.0</td>\n",
              "      <td>1.0</td>\n",
              "      <td>1.0</td>\n",
              "      <td>...</td>\n",
              "      <td>299.019353</td>\n",
              "      <td>299.019353</td>\n",
              "      <td>299.019353</td>\n",
              "      <td>299.019353</td>\n",
              "      <td>5.0</td>\n",
              "      <td>5.0</td>\n",
              "      <td>5.0</td>\n",
              "      <td>5.0</td>\n",
              "      <td>1.0</td>\n",
              "      <td>0</td>\n",
              "    </tr>\n",
              "    <tr>\n",
              "      <th>3</th>\n",
              "      <td>48</td>\n",
              "      <td>0</td>\n",
              "      <td>138</td>\n",
              "      <td>214</td>\n",
              "      <td>375.511197</td>\n",
              "      <td>1.0</td>\n",
              "      <td>1.0</td>\n",
              "      <td>1.0</td>\n",
              "      <td>1.0</td>\n",
              "      <td>1.0</td>\n",
              "      <td>...</td>\n",
              "      <td>375.511197</td>\n",
              "      <td>375.511197</td>\n",
              "      <td>375.511197</td>\n",
              "      <td>375.511197</td>\n",
              "      <td>5.0</td>\n",
              "      <td>5.0</td>\n",
              "      <td>5.0</td>\n",
              "      <td>5.0</td>\n",
              "      <td>1.0</td>\n",
              "      <td>1</td>\n",
              "    </tr>\n",
              "    <tr>\n",
              "      <th>4</th>\n",
              "      <td>54</td>\n",
              "      <td>1</td>\n",
              "      <td>150</td>\n",
              "      <td>195</td>\n",
              "      <td>408.567916</td>\n",
              "      <td>1.0</td>\n",
              "      <td>1.0</td>\n",
              "      <td>1.0</td>\n",
              "      <td>1.0</td>\n",
              "      <td>1.0</td>\n",
              "      <td>...</td>\n",
              "      <td>408.567916</td>\n",
              "      <td>408.567916</td>\n",
              "      <td>408.567916</td>\n",
              "      <td>408.567916</td>\n",
              "      <td>5.0</td>\n",
              "      <td>5.0</td>\n",
              "      <td>5.0</td>\n",
              "      <td>5.0</td>\n",
              "      <td>1.0</td>\n",
              "      <td>0</td>\n",
              "    </tr>\n",
              "  </tbody>\n",
              "</table>\n",
              "<p>5 rows × 25 columns</p>\n",
              "</div>\n",
              "    <div class=\"colab-df-buttons\">\n",
              "\n",
              "  <div class=\"colab-df-container\">\n",
              "    <button class=\"colab-df-convert\" onclick=\"convertToInteractive('df-b5d5c068-4bec-48a6-adac-8273b15514a0')\"\n",
              "            title=\"Convert this dataframe to an interactive table.\"\n",
              "            style=\"display:none;\">\n",
              "\n",
              "  <svg xmlns=\"http://www.w3.org/2000/svg\" height=\"24px\" viewBox=\"0 -960 960 960\">\n",
              "    <path d=\"M120-120v-720h720v720H120Zm60-500h600v-160H180v160Zm220 220h160v-160H400v160Zm0 220h160v-160H400v160ZM180-400h160v-160H180v160Zm440 0h160v-160H620v160ZM180-180h160v-160H180v160Zm440 0h160v-160H620v160Z\"/>\n",
              "  </svg>\n",
              "    </button>\n",
              "\n",
              "  <style>\n",
              "    .colab-df-container {\n",
              "      display:flex;\n",
              "      gap: 12px;\n",
              "    }\n",
              "\n",
              "    .colab-df-convert {\n",
              "      background-color: #E8F0FE;\n",
              "      border: none;\n",
              "      border-radius: 50%;\n",
              "      cursor: pointer;\n",
              "      display: none;\n",
              "      fill: #1967D2;\n",
              "      height: 32px;\n",
              "      padding: 0 0 0 0;\n",
              "      width: 32px;\n",
              "    }\n",
              "\n",
              "    .colab-df-convert:hover {\n",
              "      background-color: #E2EBFA;\n",
              "      box-shadow: 0px 1px 2px rgba(60, 64, 67, 0.3), 0px 1px 3px 1px rgba(60, 64, 67, 0.15);\n",
              "      fill: #174EA6;\n",
              "    }\n",
              "\n",
              "    .colab-df-buttons div {\n",
              "      margin-bottom: 4px;\n",
              "    }\n",
              "\n",
              "    [theme=dark] .colab-df-convert {\n",
              "      background-color: #3B4455;\n",
              "      fill: #D2E3FC;\n",
              "    }\n",
              "\n",
              "    [theme=dark] .colab-df-convert:hover {\n",
              "      background-color: #434B5C;\n",
              "      box-shadow: 0px 1px 3px 1px rgba(0, 0, 0, 0.15);\n",
              "      filter: drop-shadow(0px 1px 2px rgba(0, 0, 0, 0.3));\n",
              "      fill: #FFFFFF;\n",
              "    }\n",
              "  </style>\n",
              "\n",
              "    <script>\n",
              "      const buttonEl =\n",
              "        document.querySelector('#df-b5d5c068-4bec-48a6-adac-8273b15514a0 button.colab-df-convert');\n",
              "      buttonEl.style.display =\n",
              "        google.colab.kernel.accessAllowed ? 'block' : 'none';\n",
              "\n",
              "      async function convertToInteractive(key) {\n",
              "        const element = document.querySelector('#df-b5d5c068-4bec-48a6-adac-8273b15514a0');\n",
              "        const dataTable =\n",
              "          await google.colab.kernel.invokeFunction('convertToInteractive',\n",
              "                                                    [key], {});\n",
              "        if (!dataTable) return;\n",
              "\n",
              "        const docLinkHtml = 'Like what you see? Visit the ' +\n",
              "          '<a target=\"_blank\" href=https://colab.research.google.com/notebooks/data_table.ipynb>data table notebook</a>'\n",
              "          + ' to learn more about interactive tables.';\n",
              "        element.innerHTML = '';\n",
              "        dataTable['output_type'] = 'display_data';\n",
              "        await google.colab.output.renderOutput(dataTable, element);\n",
              "        const docLink = document.createElement('div');\n",
              "        docLink.innerHTML = docLinkHtml;\n",
              "        element.appendChild(docLink);\n",
              "      }\n",
              "    </script>\n",
              "  </div>\n",
              "\n",
              "\n",
              "<div id=\"df-ee3a2401-7788-426b-8737-7ce1fd907b91\">\n",
              "  <button class=\"colab-df-quickchart\" onclick=\"quickchart('df-ee3a2401-7788-426b-8737-7ce1fd907b91')\"\n",
              "            title=\"Suggest charts\"\n",
              "            style=\"display:none;\">\n",
              "\n",
              "<svg xmlns=\"http://www.w3.org/2000/svg\" height=\"24px\"viewBox=\"0 0 24 24\"\n",
              "     width=\"24px\">\n",
              "    <g>\n",
              "        <path d=\"M19 3H5c-1.1 0-2 .9-2 2v14c0 1.1.9 2 2 2h14c1.1 0 2-.9 2-2V5c0-1.1-.9-2-2-2zM9 17H7v-7h2v7zm4 0h-2V7h2v10zm4 0h-2v-4h2v4z\"/>\n",
              "    </g>\n",
              "</svg>\n",
              "  </button>\n",
              "\n",
              "<style>\n",
              "  .colab-df-quickchart {\n",
              "      --bg-color: #E8F0FE;\n",
              "      --fill-color: #1967D2;\n",
              "      --hover-bg-color: #E2EBFA;\n",
              "      --hover-fill-color: #174EA6;\n",
              "      --disabled-fill-color: #AAA;\n",
              "      --disabled-bg-color: #DDD;\n",
              "  }\n",
              "\n",
              "  [theme=dark] .colab-df-quickchart {\n",
              "      --bg-color: #3B4455;\n",
              "      --fill-color: #D2E3FC;\n",
              "      --hover-bg-color: #434B5C;\n",
              "      --hover-fill-color: #FFFFFF;\n",
              "      --disabled-bg-color: #3B4455;\n",
              "      --disabled-fill-color: #666;\n",
              "  }\n",
              "\n",
              "  .colab-df-quickchart {\n",
              "    background-color: var(--bg-color);\n",
              "    border: none;\n",
              "    border-radius: 50%;\n",
              "    cursor: pointer;\n",
              "    display: none;\n",
              "    fill: var(--fill-color);\n",
              "    height: 32px;\n",
              "    padding: 0;\n",
              "    width: 32px;\n",
              "  }\n",
              "\n",
              "  .colab-df-quickchart:hover {\n",
              "    background-color: var(--hover-bg-color);\n",
              "    box-shadow: 0 1px 2px rgba(60, 64, 67, 0.3), 0 1px 3px 1px rgba(60, 64, 67, 0.15);\n",
              "    fill: var(--button-hover-fill-color);\n",
              "  }\n",
              "\n",
              "  .colab-df-quickchart-complete:disabled,\n",
              "  .colab-df-quickchart-complete:disabled:hover {\n",
              "    background-color: var(--disabled-bg-color);\n",
              "    fill: var(--disabled-fill-color);\n",
              "    box-shadow: none;\n",
              "  }\n",
              "\n",
              "  .colab-df-spinner {\n",
              "    border: 2px solid var(--fill-color);\n",
              "    border-color: transparent;\n",
              "    border-bottom-color: var(--fill-color);\n",
              "    animation:\n",
              "      spin 1s steps(1) infinite;\n",
              "  }\n",
              "\n",
              "  @keyframes spin {\n",
              "    0% {\n",
              "      border-color: transparent;\n",
              "      border-bottom-color: var(--fill-color);\n",
              "      border-left-color: var(--fill-color);\n",
              "    }\n",
              "    20% {\n",
              "      border-color: transparent;\n",
              "      border-left-color: var(--fill-color);\n",
              "      border-top-color: var(--fill-color);\n",
              "    }\n",
              "    30% {\n",
              "      border-color: transparent;\n",
              "      border-left-color: var(--fill-color);\n",
              "      border-top-color: var(--fill-color);\n",
              "      border-right-color: var(--fill-color);\n",
              "    }\n",
              "    40% {\n",
              "      border-color: transparent;\n",
              "      border-right-color: var(--fill-color);\n",
              "      border-top-color: var(--fill-color);\n",
              "    }\n",
              "    60% {\n",
              "      border-color: transparent;\n",
              "      border-right-color: var(--fill-color);\n",
              "    }\n",
              "    80% {\n",
              "      border-color: transparent;\n",
              "      border-right-color: var(--fill-color);\n",
              "      border-bottom-color: var(--fill-color);\n",
              "    }\n",
              "    90% {\n",
              "      border-color: transparent;\n",
              "      border-bottom-color: var(--fill-color);\n",
              "    }\n",
              "  }\n",
              "</style>\n",
              "\n",
              "  <script>\n",
              "    async function quickchart(key) {\n",
              "      const quickchartButtonEl =\n",
              "        document.querySelector('#' + key + ' button');\n",
              "      quickchartButtonEl.disabled = true;  // To prevent multiple clicks.\n",
              "      quickchartButtonEl.classList.add('colab-df-spinner');\n",
              "      try {\n",
              "        const charts = await google.colab.kernel.invokeFunction(\n",
              "            'suggestCharts', [key], {});\n",
              "      } catch (error) {\n",
              "        console.error('Error during call to suggestCharts:', error);\n",
              "      }\n",
              "      quickchartButtonEl.classList.remove('colab-df-spinner');\n",
              "      quickchartButtonEl.classList.add('colab-df-quickchart-complete');\n",
              "    }\n",
              "    (() => {\n",
              "      let quickchartButtonEl =\n",
              "        document.querySelector('#df-ee3a2401-7788-426b-8737-7ce1fd907b91 button');\n",
              "      quickchartButtonEl.style.display =\n",
              "        google.colab.kernel.accessAllowed ? 'block' : 'none';\n",
              "    })();\n",
              "  </script>\n",
              "</div>\n",
              "    </div>\n",
              "  </div>\n"
            ]
          },
          "metadata": {},
          "execution_count": 43
        },
        {
          "output_type": "stream",
          "name": "stdout",
          "text": [
            "time: 50.3 ms (started: 2023-12-15 22:44:56 +00:00)\n"
          ]
        }
      ]
    },
    {
      "cell_type": "code",
      "source": [
        "#Splitting the Variables into X and Y\n",
        "X = heart_attack.iloc[:, 0:23].values\n",
        "Y = heart_attack.iloc[:, 24].values\n",
        "\n",
        "# Split our Data set into Training Data and val Data.\n",
        "X_train, X_val, Y_train, Y_val = train_test_split(X, Y, test_size = 0.2, random_state = 0)\n",
        "\n",
        "# Use standard scaling from Sklearn to scale data between - and  for better accuracy.\n",
        "scale = StandardScaler()\n",
        "X_train = scale.fit_transform(X_train)\n",
        "X_val = scale.transform(X_val)\n",
        "\n",
        "Y_train = Y_train.reshape(-1, 1)\n",
        "Y_val = Y_val.reshape(-1, 1)\n",
        "\n",
        "X_train_t = torch.tensor(X_train, dtype=torch.float)\n",
        "X_val_t = torch.tensor(X_val, dtype=torch.float)\n",
        "Y_train_t = torch.tensor(Y_train, dtype=torch.float)\n",
        "Y_val_t = torch.tensor(Y_val, dtype=torch.float)\n",
        "\n",
        "\n",
        "print(X_train_t.dtype)\n",
        "print(X_val_t.dtype)\n",
        "print(Y_train_t.dtype)\n",
        "print(Y_val_t.dtype)"
      ],
      "metadata": {
        "colab": {
          "base_uri": "https://localhost:8080/"
        },
        "id": "g_2DdhwgpJfI",
        "outputId": "3881c73a-b17e-453b-a402-47ae9f575ce4"
      },
      "execution_count": null,
      "outputs": [
        {
          "output_type": "stream",
          "name": "stdout",
          "text": [
            "torch.float32\n",
            "torch.float32\n",
            "torch.float32\n",
            "torch.float32\n",
            "time: 12.7 ms (started: 2023-12-15 22:44:56 +00:00)\n"
          ]
        }
      ]
    },
    {
      "cell_type": "code",
      "source": [
        "def model_linear(t_in, w1, w2, w3, b):\n",
        "  t_p = ((w3 * t_in ** 3) + (w2 * t_in ** 2) + (w1 * t_in) + b)\n",
        "  return t_p\n",
        "\n",
        "def loss_fn(t_p, t_gnd):\n",
        "  squared_diffs = (t_p - t_gnd)**2\n",
        "  return squared_diffs.mean()\n",
        "\n",
        "def training_loop(n_epochs, optimizer, params, train_t_in, val_t_in,\n",
        "                    train_t_out, val_t_out):\n",
        "  for epoch in range(1, n_epochs + 1):\n",
        "\n",
        "    if params.grad is not None:\n",
        "      params.grad.zero_()\n",
        "\n",
        "    train_t_p = model_linear(train_t_in, *params)\n",
        "    train_loss = loss_fn(train_t_p, train_t_out)\n",
        "\n",
        "    val_t_p = model_linear(val_t_in, *params)\n",
        "    val_loss = loss_fn(val_t_p, val_t_out)\n",
        "\n",
        "    optimizer.zero_grad()\n",
        "    train_loss.backward()\n",
        "    optimizer.step()\n",
        "\n",
        "    if epoch <= 3 or epoch % 500 == 0:\n",
        "      print(f\"Epoch {epoch}, \\tTraining loss {train_loss.item():.4f},\"\n",
        "      f\" \\tValidation loss {val_loss.item():.4f}\")\n",
        "\n",
        "  return params"
      ],
      "metadata": {
        "colab": {
          "base_uri": "https://localhost:8080/"
        },
        "id": "8g_u8ifEpUeD",
        "outputId": "b29020db-ac0f-4a8c-b95f-c4188faef657"
      },
      "execution_count": null,
      "outputs": [
        {
          "output_type": "stream",
          "name": "stdout",
          "text": [
            "time: 795 µs (started: 2023-12-15 22:44:56 +00:00)\n"
          ]
        }
      ]
    },
    {
      "cell_type": "code",
      "source": [
        "params = torch.tensor([1.0, 1.0, 1.0, 0.0], requires_grad=True)\n",
        "\n",
        "learning_rate_1 = 1e-3\n",
        "optimizer_1 = optim.SGD([params], lr=learning_rate_1)\n",
        "\n",
        "print('Loss every 500 epochs using learning rate of 1e-3\\n')\n",
        "training_loop(\n",
        "    n_epochs = 5000,\n",
        "    optimizer = optimizer_1,\n",
        "    params = params,\n",
        "    train_t_in = X_train_t,\n",
        "    val_t_in = X_val_t,\n",
        "    train_t_out = Y_train_t,\n",
        "    val_t_out = Y_val_t)"
      ],
      "metadata": {
        "colab": {
          "base_uri": "https://localhost:8080/"
        },
        "id": "DvKUN_g9pWH7",
        "outputId": "d6ff854e-bcba-47fc-bb6c-110ad9657935"
      },
      "execution_count": null,
      "outputs": [
        {
          "output_type": "stream",
          "name": "stdout",
          "text": [
            "Loss every 500 epochs using learning rate of 1e-3\n",
            "\n",
            "Epoch 1, \tTraining loss 56.5286, \tValidation loss 50.2810\n",
            "Epoch 2, \tTraining loss 48.2433, \tValidation loss 43.0094\n",
            "Epoch 3, \tTraining loss 41.2371, \tValidation loss 36.8514\n",
            "Epoch 500, \tTraining loss 0.4458, \tValidation loss 0.4299\n",
            "Epoch 1000, \tTraining loss 0.2905, \tValidation loss 0.2841\n",
            "Epoch 1500, \tTraining loss 0.2498, \tValidation loss 0.2463\n",
            "Epoch 2000, \tTraining loss 0.2391, \tValidation loss 0.2367\n",
            "Epoch 2500, \tTraining loss 0.2362, \tValidation loss 0.2344\n",
            "Epoch 3000, \tTraining loss 0.2354, \tValidation loss 0.2338\n",
            "Epoch 3500, \tTraining loss 0.2352, \tValidation loss 0.2337\n",
            "Epoch 4000, \tTraining loss 0.2351, \tValidation loss 0.2337\n",
            "Epoch 4500, \tTraining loss 0.2351, \tValidation loss 0.2338\n",
            "Epoch 5000, \tTraining loss 0.2351, \tValidation loss 0.2338\n"
          ]
        },
        {
          "output_type": "execute_result",
          "data": {
            "text/plain": [
              "tensor([0.0091, 0.0159, 0.0012, 0.3660], requires_grad=True)"
            ]
          },
          "metadata": {},
          "execution_count": 46
        },
        {
          "output_type": "stream",
          "name": "stdout",
          "text": [
            "time: 26.9 s (started: 2023-12-15 22:44:56 +00:00)\n"
          ]
        }
      ]
    },
    {
      "cell_type": "code",
      "source": [
        "# Getting the predictions based on the training set using the linear model\n",
        "model_output = model_linear(X_train_t, *params)\n",
        "# Converting the prediction tensor into a numpy array to use the sklearn metrics library\n",
        "model_output_np = model_output.detach().numpy() if isinstance(model_output, torch.Tensor) else model_output\n",
        "\n",
        "# Using argmax to get the class (1 or 0) with the highest probability\n",
        "predicted_labels = np.argmax(model_output_np, axis=1)\n",
        "\n",
        "# Calculate accuracy, precision, and recall for training set\n",
        "train_accuracy = accuracy_score(Y_train, predicted_labels)\n",
        "train_recall = recall_score(Y_train, predicted_labels, average= 'macro', zero_division=1)\n",
        "train_precision = precision_score(Y_train, predicted_labels, average = 'macro', zero_division=1)\n",
        "train_F1_score = (2*train_recall*train_precision)/(train_recall+train_precision)\n",
        "\n",
        "# Getting the predictions based on the validation set using the linear model\n",
        "model_output_val = model_linear(X_val_t, *params)\n",
        "# Converting the prediction tensor into a numpy array to use the sklearn metrics library\n",
        "model_output_val_np = model_output_val.detach().numpy() if isinstance(model_output_val, torch.Tensor) else model_output_val\n",
        "\n",
        "# Using argmax to get the class (1 or 0) with the highest probability\n",
        "predicted_labels_val = np.argmax(model_output_val_np, axis=1)\n",
        "\n",
        "# Calculate accuracy, precision, and recall for validation set\n",
        "val_accuracy = accuracy_score(Y_val, predicted_labels_val)\n",
        "val_precision = precision_score(Y_val, predicted_labels_val, average = 'macro', zero_division=1)\n",
        "val_recall = recall_score(Y_val, predicted_labels_val, average = 'macro', zero_division=1)\n",
        "val_F1_score = (2*val_recall*val_precision)/(val_recall+val_precision)\n",
        "\n",
        "# Print the calculated metrics\n",
        "print(f\"Training Accuracy: {train_accuracy:.4f}\")\n",
        "print(f\"Training Precision: {train_precision:.4f}\")\n",
        "print(f\"Training Recall: {train_recall:.4f}\")\n",
        "print(f\"Training F1 Score: {train_F1_score:.4f}\")\n",
        "\n",
        "print(f\"\\nValidation Accuracy: {val_accuracy:.4f}\")\n",
        "print(f\"Validation Precision: {val_precision:.4f}\")\n",
        "print(f\"Validation Recall: {val_recall:.4f}\")\n",
        "print(f\"Validation F1 Score: {val_F1_score:.4f}\")"
      ],
      "metadata": {
        "colab": {
          "base_uri": "https://localhost:8080/"
        },
        "id": "W-b73S3ppZHD",
        "outputId": "04cc403d-aaa6-46de-a4d1-70709a88bff6"
      },
      "execution_count": null,
      "outputs": [
        {
          "output_type": "stream",
          "name": "stdout",
          "text": [
            "Training Accuracy: 0.0662\n",
            "Training Precision: 0.0404\n",
            "Training Recall: 0.9099\n",
            "Training F1 Score: 0.0775\n",
            "\n",
            "Validation Accuracy: 0.0541\n",
            "Validation Precision: 0.0501\n",
            "Validation Recall: 0.9089\n",
            "Validation F1 Score: 0.0949\n",
            "time: 76.9 ms (started: 2023-12-15 22:45:23 +00:00)\n"
          ]
        }
      ]
    },
    {
      "cell_type": "code",
      "source": [
        "#Sequential Model\n",
        "\n",
        "model_seq = nn.Sequential(\n",
        "            nn.Linear(23, 1024),\n",
        "            nn.Tanh(),\n",
        "            nn.Linear(1024, 2048),\n",
        "            nn.Tanh(),\n",
        "            nn.Linear(2048, 512),\n",
        "            nn.Tanh(),\n",
        "            nn.Linear(512,1)\n",
        "            )\n",
        "model_seq"
      ],
      "metadata": {
        "colab": {
          "base_uri": "https://localhost:8080/"
        },
        "id": "guruJ23jpcS2",
        "outputId": "e04ea4b8-a5c1-4801-b7f5-e2dc6955c836"
      },
      "execution_count": null,
      "outputs": [
        {
          "output_type": "execute_result",
          "data": {
            "text/plain": [
              "Sequential(\n",
              "  (0): Linear(in_features=23, out_features=1024, bias=True)\n",
              "  (1): Tanh()\n",
              "  (2): Linear(in_features=1024, out_features=2048, bias=True)\n",
              "  (3): Tanh()\n",
              "  (4): Linear(in_features=2048, out_features=512, bias=True)\n",
              "  (5): Tanh()\n",
              "  (6): Linear(in_features=512, out_features=1, bias=True)\n",
              ")"
            ]
          },
          "metadata": {},
          "execution_count": 48
        },
        {
          "output_type": "stream",
          "name": "stdout",
          "text": [
            "time: 123 ms (started: 2023-12-15 22:45:23 +00:00)\n"
          ]
        }
      ]
    },
    {
      "cell_type": "code",
      "source": [
        "# Checking the complexity of the model\n",
        "sum([p.numel() for p in model_seq.parameters()])"
      ],
      "metadata": {
        "colab": {
          "base_uri": "https://localhost:8080/"
        },
        "id": "y4euE_NZpeAP",
        "outputId": "3bcdb7e4-5bf7-42f3-b15a-c3dca0e62d89"
      },
      "execution_count": null,
      "outputs": [
        {
          "output_type": "execute_result",
          "data": {
            "text/plain": [
              "3173377"
            ]
          },
          "metadata": {},
          "execution_count": 49
        },
        {
          "output_type": "stream",
          "name": "stdout",
          "text": [
            "time: 6.3 ms (started: 2023-12-15 22:45:23 +00:00)\n"
          ]
        }
      ]
    },
    {
      "cell_type": "code",
      "source": [
        "#Let's define our training loop that will be used\n",
        "\n",
        "def training_loop(n_epochs, optimizer, model, loss_fn, x_train, x_val,\n",
        "                  y_train, y_val):\n",
        "    for epoch in range(1, n_epochs + 1):\n",
        "        p_train = model(x_train) # <1>\n",
        "        loss_train = loss_fn(p_train, y_train,)\n",
        "\n",
        "        p_val = model(x_val) # <1>\n",
        "        loss_val = loss_fn(p_val, y_val)\n",
        "\n",
        "        optimizer.zero_grad()\n",
        "        loss_train.backward() # <2>\n",
        "        optimizer.step()\n",
        "\n",
        "\n",
        "        if epoch == 1 or epoch % 10 == 0:\n",
        "            print(f\"Epoch: {epoch}, Training loss: {loss_train.item():.4f},\"\n",
        "                  f\" Validation loss: {loss_val.item():.4f}\")"
      ],
      "metadata": {
        "colab": {
          "base_uri": "https://localhost:8080/"
        },
        "id": "73flpVknpfxd",
        "outputId": "4dbf942e-4427-4cf7-d13f-fd877dff9a63"
      },
      "execution_count": null,
      "outputs": [
        {
          "output_type": "stream",
          "name": "stdout",
          "text": [
            "time: 771 µs (started: 2023-12-15 22:45:23 +00:00)\n"
          ]
        }
      ]
    },
    {
      "cell_type": "code",
      "source": [
        "#Let's try doing some training\n",
        "\n",
        "optimizer_1 = optim.SGD(model_seq.parameters(), lr=1e-2)\n",
        "\n",
        "training_loop(\n",
        "    n_epochs = 151,\n",
        "    optimizer = optimizer_1,\n",
        "    model = model_seq,\n",
        "    loss_fn = nn.MSELoss(),\n",
        "    x_train = X_train_t,\n",
        "    x_val = X_val_t,\n",
        "    y_train = Y_train_t,\n",
        "    y_val = Y_val_t\n",
        ")"
      ],
      "metadata": {
        "colab": {
          "base_uri": "https://localhost:8080/"
        },
        "id": "GtoP51SXphsb",
        "outputId": "7171dbec-6547-4694-fef9-9d24a404d829"
      },
      "execution_count": null,
      "outputs": [
        {
          "output_type": "stream",
          "name": "stdout",
          "text": [
            "Epoch: 1, Training loss: 0.3795, Validation loss: 0.3758\n",
            "Epoch: 10, Training loss: 0.2574, Validation loss: 0.2543\n",
            "Epoch: 20, Training loss: 0.2364, Validation loss: 0.2334\n",
            "Epoch: 30, Training loss: 0.2332, Validation loss: 0.2302\n",
            "Epoch: 40, Training loss: 0.2324, Validation loss: 0.2294\n",
            "Epoch: 50, Training loss: 0.2321, Validation loss: 0.2291\n",
            "Epoch: 60, Training loss: 0.2319, Validation loss: 0.2289\n",
            "Epoch: 70, Training loss: 0.2317, Validation loss: 0.2287\n",
            "Epoch: 80, Training loss: 0.2316, Validation loss: 0.2286\n",
            "Epoch: 90, Training loss: 0.2315, Validation loss: 0.2285\n",
            "Epoch: 100, Training loss: 0.2314, Validation loss: 0.2284\n",
            "Epoch: 110, Training loss: 0.2314, Validation loss: 0.2283\n",
            "Epoch: 120, Training loss: 0.2313, Validation loss: 0.2283\n",
            "Epoch: 130, Training loss: 0.2313, Validation loss: 0.2283\n",
            "Epoch: 140, Training loss: 0.2312, Validation loss: 0.2282\n",
            "Epoch: 150, Training loss: 0.2312, Validation loss: 0.2282\n",
            "time: 4min 17s (started: 2023-12-15 22:45:23 +00:00)\n"
          ]
        }
      ]
    },
    {
      "cell_type": "code",
      "source": [
        "# Function to calculate accuracy\n",
        "def calculate_accuracy(predictions, targets):\n",
        "    return (predictions == targets).float().mean().item()\n",
        "\n",
        "# Function to calculate recall\n",
        "def calculate_recall(predictions, targets):\n",
        "    true_positives = ((predictions == 1) & (targets == 1)).sum().item()\n",
        "    false_negatives = ((predictions == 0) & (targets == 1)).sum().item()\n",
        "    return true_positives / (true_positives + false_negatives) if (true_positives + false_negatives) > 0 else 0\n",
        "\n",
        "# Function to calculate precision\n",
        "def calculate_precision(predictions, targets):\n",
        "    true_positives = ((predictions == 1) & (targets == 1)).sum().item()\n",
        "    false_positive = ((predictions == 1) & (targets == 0)).sum().item()\n",
        "    return true_positives / (true_positives + false_positive) if (true_positives + false_positive) > 0 else 0\n"
      ],
      "metadata": {
        "colab": {
          "base_uri": "https://localhost:8080/"
        },
        "id": "XbkTHiiqpjvS",
        "outputId": "2cc35663-081f-42ac-fc12-f0ae3d4f59b8"
      },
      "execution_count": null,
      "outputs": [
        {
          "output_type": "stream",
          "name": "stdout",
          "text": [
            "time: 1.32 ms (started: 2023-12-15 22:49:40 +00:00)\n"
          ]
        }
      ]
    },
    {
      "cell_type": "code",
      "source": [
        "# Calculate predictions for the training set\n",
        "with torch.no_grad():\n",
        "    train_predictions = torch.round(torch.sigmoid(model_seq(X_train_t)))\n",
        "\n",
        "# Calculate accuracy, recall, precision, and F1 score for the training set\n",
        "accuracy_train = calculate_accuracy(train_predictions, Y_train_t)\n",
        "recall_train = calculate_recall(train_predictions, Y_train_t)\n",
        "precision_train = calculate_precision(train_predictions, Y_train_t)\n",
        "F1_score_train = (2*recall_train*precision_train)/(recall_train+precision_train)\n",
        "\n",
        "# Calculate predictions for the training set\n",
        "with torch.no_grad():\n",
        "    train_predictions = torch.round(torch.sigmoid(model_seq(X_val_t)))\n",
        "\n",
        "# Calculate accuracy, recall, precision, and F1 score for the validation set\n",
        "accuracy_val = calculate_accuracy(train_predictions, Y_val_t)\n",
        "recall_val = calculate_recall(train_predictions, Y_val_t)\n",
        "precision_val = calculate_precision(train_predictions, Y_val_t)\n",
        "F1_score_val = (2*recall_val*precision_val)/(recall_val+precision_val)\n",
        "\n",
        "\n",
        "# Print the metrics\n",
        "print(\"Training Accuracy: {:.4f}\".format(accuracy_train))\n",
        "print(\"Training Recall: {:.4f}\".format(recall_train))\n",
        "print(\"Training Precision: {:.4f}\".format(precision_train))\n",
        "print(\"Training F1 Score: {:.4f}\".format(F1_score_train))\n",
        "\n",
        "print(\"\\nValidation Accuracy: {:.4f}\".format(accuracy_val))\n",
        "print(\"Validation Recall: {:.4f}\".format(recall_val))\n",
        "print(\"Validation Precision: {:.4f}\".format(precision_val))\n",
        "print(\"Validation F1 Score: {:.4f}\".format(F1_score_val))"
      ],
      "metadata": {
        "colab": {
          "base_uri": "https://localhost:8080/"
        },
        "id": "tv1wauawpmom",
        "outputId": "9acca7c0-776d-42c7-9220-12ce49338fbc"
      },
      "execution_count": null,
      "outputs": [
        {
          "output_type": "stream",
          "name": "stdout",
          "text": [
            "Training Accuracy: 0.3825\n",
            "Training Recall: 1.0000\n",
            "Training Precision: 0.3825\n",
            "Training F1 Score: 0.5533\n",
            "\n",
            "Validation Accuracy: 0.3791\n",
            "Validation Recall: 1.0000\n",
            "Validation Precision: 0.3791\n",
            "Validation F1 Score: 0.5497\n",
            "time: 516 ms (started: 2023-12-15 22:49:40 +00:00)\n"
          ]
        }
      ]
    },
    {
      "cell_type": "code",
      "source": [
        "# Defining the fully connected neural network\n",
        "\n",
        "model_fnn = nn.Sequential(\n",
        "            nn.Linear(23, 1024),\n",
        "            nn.Tanh(),\n",
        "            nn.Dropout(p=0.5),  # Dropout layer with a dropout probability of 0.5\n",
        "            nn.Linear(1024, 2048),\n",
        "            nn.Tanh(),\n",
        "            nn.Dropout(p=0.5),  # Dropout layer with a dropout probability of 0.5\n",
        "            nn.Linear(2048,1024),\n",
        "            nn.Tanh(),\n",
        "            nn.Dropout(p=0.5),  # Dropout layer with a dropout probability of 0.5\n",
        "            nn.Linear(1024, 512),\n",
        "            nn.Tanh(),\n",
        "            nn.Dropout(p=0.5),  # Dropout layer with a dropout probability of 0.5\n",
        "            nn.Linear(512, 64),\n",
        "            nn.Tanh(),\n",
        "            nn.Linear(64, 1)\n",
        "           )"
      ],
      "metadata": {
        "colab": {
          "base_uri": "https://localhost:8080/"
        },
        "id": "boeDJFjzpohS",
        "outputId": "71bdbe51-4f65-42fb-ebb1-85fe7ad450fd"
      },
      "execution_count": null,
      "outputs": [
        {
          "output_type": "stream",
          "name": "stdout",
          "text": [
            "time: 34.1 ms (started: 2023-12-15 22:49:41 +00:00)\n"
          ]
        }
      ]
    },
    {
      "cell_type": "code",
      "source": [
        "# Checking the complexity of the model\n",
        "sum([p.numel() for p in model_fnn.parameters()])"
      ],
      "metadata": {
        "colab": {
          "base_uri": "https://localhost:8080/"
        },
        "id": "BJsNKMloptG7",
        "outputId": "7b0df69e-4b4d-4b63-e790-6482a8e510a0"
      },
      "execution_count": null,
      "outputs": [
        {
          "output_type": "execute_result",
          "data": {
            "text/plain": [
              "4779649"
            ]
          },
          "metadata": {},
          "execution_count": 55
        },
        {
          "output_type": "stream",
          "name": "stdout",
          "text": [
            "time: 3.94 ms (started: 2023-12-15 22:49:41 +00:00)\n"
          ]
        }
      ]
    },
    {
      "cell_type": "code",
      "source": [
        "# Setting up the parameters used in the training loop\n",
        "\n",
        "learning_rate = 1\n",
        "\n",
        "optimizer = optim.SGD(model_fnn.parameters(), lr=learning_rate)\n",
        "\n",
        "loss_fn = nn.BCEWithLogitsLoss()\n",
        "\n",
        "n_epochs = 151\n",
        "\n",
        "# This is the Training\n",
        "\n",
        "for epoch in range(n_epochs):\n",
        "    outputs = model_fnn(X_train_t)\n",
        "    loss = loss_fn(outputs, Y_train_t)\n",
        "\n",
        "    optimizer.zero_grad()\n",
        "    loss.backward()\n",
        "    optimizer.step()\n",
        "\n",
        "    if epoch % 10 == 0:  # Print loss every 10 epochs\n",
        "      print(\"Epoch: %d, Loss: %f\" % (epoch, float(loss)))"
      ],
      "metadata": {
        "colab": {
          "base_uri": "https://localhost:8080/"
        },
        "id": "hiQscL9bpwIQ",
        "outputId": "ff77fa30-3285-48bb-b99c-bf863294963f"
      },
      "execution_count": null,
      "outputs": [
        {
          "output_type": "stream",
          "name": "stdout",
          "text": [
            "Epoch: 0, Loss: 0.682186\n",
            "Epoch: 10, Loss: 0.656962\n",
            "Epoch: 20, Loss: 0.656887\n",
            "Epoch: 30, Loss: 0.656115\n",
            "Epoch: 40, Loss: 0.657733\n",
            "Epoch: 50, Loss: 0.657016\n",
            "Epoch: 60, Loss: 0.655314\n",
            "Epoch: 70, Loss: 0.655450\n",
            "Epoch: 80, Loss: 0.656212\n",
            "Epoch: 90, Loss: 0.655460\n",
            "Epoch: 100, Loss: 0.655297\n",
            "Epoch: 110, Loss: 0.654615\n",
            "Epoch: 120, Loss: 0.655158\n",
            "Epoch: 130, Loss: 0.654787\n",
            "Epoch: 140, Loss: 0.655481\n",
            "Epoch: 150, Loss: 0.653900\n",
            "time: 5min 48s (started: 2023-12-15 22:49:41 +00:00)\n"
          ]
        }
      ]
    },
    {
      "cell_type": "code",
      "source": [
        "# Checking the Accuracy, Recall, Precision, and F1 Score of the Training Set\n",
        "\n",
        "correct_train = 0\n",
        "total_train = 0\n",
        "\n",
        "with torch.no_grad():\n",
        "    outputs_train = model_fnn(X_train_t)\n",
        "    _, predicted_train = torch.max(outputs_train, dim=1)\n",
        "    total_train += Y_train_t.size(0)\n",
        "    correct_train += int((predicted_train == Y_train_t.squeeze()).sum())\n",
        "\n",
        "accuracy_train = correct_train / total_train\n",
        "precision_train = precision_score(Y_train_t, predicted_train, average='macro', zero_division=0)\n",
        "recall_train = recall_score(Y_train_t, predicted_train, average='macro', zero_division=0)\n",
        "F1_score_train = (2*recall_train*precision_train)/(recall_train+precision_train)\n",
        "\n",
        "# Print the metrics\n",
        "print(\"Training Accuracy: %f\" % accuracy_train)\n",
        "print(\"Training Precision: %f\" % precision_train)\n",
        "print(\"Training Recall: %f\" % recall_train)\n",
        "print(\"Training F1 score: %f\" % F1_score_train)"
      ],
      "metadata": {
        "colab": {
          "base_uri": "https://localhost:8080/"
        },
        "id": "NrVqo3wCpyBI",
        "outputId": "7b47c8bf-122f-4a63-f7ea-c9e781400fd4"
      },
      "execution_count": null,
      "outputs": [
        {
          "output_type": "stream",
          "name": "stdout",
          "text": [
            "Training Accuracy: 0.617503\n",
            "Training Precision: 0.308752\n",
            "Training Recall: 0.500000\n",
            "Training F1 score: 0.381763\n",
            "time: 751 ms (started: 2023-12-15 22:55:30 +00:00)\n"
          ]
        }
      ]
    },
    {
      "cell_type": "code",
      "source": [
        "# Checking the Accuracy, Recall, Precision, and F1 Score of the Validation Set\n",
        "\n",
        "correct_val = 0\n",
        "total_val = 0\n",
        "\n",
        "with torch.no_grad():\n",
        "    outputs_val = model_fnn(X_val_t)\n",
        "    _, predicted_val = torch.max(outputs_val, dim=1)\n",
        "    total_val += Y_val_t.size(0)\n",
        "    correct_val += int((predicted_val == Y_val_t.squeeze()).sum())\n",
        "\n",
        "accuracy_val = correct_val / total_val\n",
        "precision_val = precision_score(Y_val_t, predicted_val, average='macro', zero_division=0)\n",
        "pecall_val = recall_score(Y_val_t, predicted_val, average='macro', zero_division=0)\n",
        "p1_score_train = (2*recall_val*precision_val)/(recall_val+precision_val)\n",
        "\n",
        "# Print the metrics\n",
        "print(\"Validation Accuracy: %f\" % accuracy_val)\n",
        "print(\"Validation Precision: %f\" % precision_val)\n",
        "print(\"Validation Recall: %f\" % recall_val)\n",
        "print(\"Validation F1 score: %f\" % F1_score_train)"
      ],
      "metadata": {
        "colab": {
          "base_uri": "https://localhost:8080/"
        },
        "id": "LT7INQZ5p0E3",
        "outputId": "b2d2b1a3-c555-4bc3-9a62-d4de06afd5a7"
      },
      "execution_count": null,
      "outputs": [
        {
          "output_type": "stream",
          "name": "stdout",
          "text": [
            "Validation Accuracy: 0.620931\n",
            "Validation Precision: 0.310466\n",
            "Validation Recall: 1.000000\n",
            "Validation F1 score: 0.381763\n",
            "time: 191 ms (started: 2023-12-15 22:55:30 +00:00)\n"
          ]
        }
      ]
    }
  ]
}