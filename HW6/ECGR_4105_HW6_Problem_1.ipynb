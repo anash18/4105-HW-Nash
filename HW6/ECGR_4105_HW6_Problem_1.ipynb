{
  "cells": [
    {
      "cell_type": "markdown",
      "metadata": {
        "colab_type": "text",
        "id": "view-in-github"
      },
      "source": [
        "<a href=\"https://colab.research.google.com/github/anash18/4105-HW-Nash/blob/main/HW6/ECGR_4105_HW6_Problem_1.ipynb\" target=\"_parent\"><img src=\"https://colab.research.google.com/assets/colab-badge.svg\" alt=\"Open In Colab\"/></a>"
      ]
    },
    {
      "cell_type": "code",
      "execution_count": 2,
      "metadata": {
        "id": "GuH_WY7wYZwZ"
      },
      "outputs": [],
      "source": [
        "import torch\n",
        "import torch.nn as nn\n",
        "import numpy as np\n",
        "import matplotlib.pyplot as plt\n",
        "import pandas as pd\n",
        "from sklearn.model_selection import train_test_split\n",
        "from sklearn.preprocessing import StandardScaler\n",
        "import torch.optim as optim\n",
        "from collections import OrderedDict"
      ]
    },
    {
      "cell_type": "code",
      "execution_count": 3,
      "metadata": {
        "colab": {
          "base_uri": "https://localhost:8080/",
          "height": 243
        },
        "id": "tHablh5Onyj-",
        "outputId": "33c65888-b68c-4170-f5fe-1488292e9aab"
      },
      "outputs": [
        {
          "data": {
            "text/html": [
              "<div>\n",
              "<style scoped>\n",
              "    .dataframe tbody tr th:only-of-type {\n",
              "        vertical-align: middle;\n",
              "    }\n",
              "\n",
              "    .dataframe tbody tr th {\n",
              "        vertical-align: top;\n",
              "    }\n",
              "\n",
              "    .dataframe thead th {\n",
              "        text-align: right;\n",
              "    }\n",
              "</style>\n",
              "<table border=\"1\" class=\"dataframe\">\n",
              "  <thead>\n",
              "    <tr style=\"text-align: right;\">\n",
              "      <th></th>\n",
              "      <th>price</th>\n",
              "      <th>area</th>\n",
              "      <th>bedrooms</th>\n",
              "      <th>bathrooms</th>\n",
              "      <th>stories</th>\n",
              "      <th>mainroad</th>\n",
              "      <th>guestroom</th>\n",
              "      <th>basement</th>\n",
              "      <th>hotwaterheating</th>\n",
              "      <th>airconditioning</th>\n",
              "      <th>parking</th>\n",
              "      <th>prefarea</th>\n",
              "      <th>furnishingstatus</th>\n",
              "    </tr>\n",
              "  </thead>\n",
              "  <tbody>\n",
              "    <tr>\n",
              "      <th>0</th>\n",
              "      <td>13300000</td>\n",
              "      <td>7420</td>\n",
              "      <td>4</td>\n",
              "      <td>2</td>\n",
              "      <td>3</td>\n",
              "      <td>yes</td>\n",
              "      <td>no</td>\n",
              "      <td>no</td>\n",
              "      <td>no</td>\n",
              "      <td>yes</td>\n",
              "      <td>2</td>\n",
              "      <td>yes</td>\n",
              "      <td>furnished</td>\n",
              "    </tr>\n",
              "    <tr>\n",
              "      <th>1</th>\n",
              "      <td>12250000</td>\n",
              "      <td>8960</td>\n",
              "      <td>4</td>\n",
              "      <td>4</td>\n",
              "      <td>4</td>\n",
              "      <td>yes</td>\n",
              "      <td>no</td>\n",
              "      <td>no</td>\n",
              "      <td>no</td>\n",
              "      <td>yes</td>\n",
              "      <td>3</td>\n",
              "      <td>no</td>\n",
              "      <td>furnished</td>\n",
              "    </tr>\n",
              "    <tr>\n",
              "      <th>2</th>\n",
              "      <td>12250000</td>\n",
              "      <td>9960</td>\n",
              "      <td>3</td>\n",
              "      <td>2</td>\n",
              "      <td>2</td>\n",
              "      <td>yes</td>\n",
              "      <td>no</td>\n",
              "      <td>yes</td>\n",
              "      <td>no</td>\n",
              "      <td>no</td>\n",
              "      <td>2</td>\n",
              "      <td>yes</td>\n",
              "      <td>semi-furnished</td>\n",
              "    </tr>\n",
              "    <tr>\n",
              "      <th>3</th>\n",
              "      <td>12215000</td>\n",
              "      <td>7500</td>\n",
              "      <td>4</td>\n",
              "      <td>2</td>\n",
              "      <td>2</td>\n",
              "      <td>yes</td>\n",
              "      <td>no</td>\n",
              "      <td>yes</td>\n",
              "      <td>no</td>\n",
              "      <td>yes</td>\n",
              "      <td>3</td>\n",
              "      <td>yes</td>\n",
              "      <td>furnished</td>\n",
              "    </tr>\n",
              "    <tr>\n",
              "      <th>4</th>\n",
              "      <td>11410000</td>\n",
              "      <td>7420</td>\n",
              "      <td>4</td>\n",
              "      <td>1</td>\n",
              "      <td>2</td>\n",
              "      <td>yes</td>\n",
              "      <td>yes</td>\n",
              "      <td>yes</td>\n",
              "      <td>no</td>\n",
              "      <td>yes</td>\n",
              "      <td>2</td>\n",
              "      <td>no</td>\n",
              "      <td>furnished</td>\n",
              "    </tr>\n",
              "  </tbody>\n",
              "</table>\n",
              "</div>"
            ],
            "text/plain": [
              "      price  area  bedrooms  bathrooms  stories mainroad guestroom basement  \\\n",
              "0  13300000  7420         4          2        3      yes        no       no   \n",
              "1  12250000  8960         4          4        4      yes        no       no   \n",
              "2  12250000  9960         3          2        2      yes        no      yes   \n",
              "3  12215000  7500         4          2        2      yes        no      yes   \n",
              "4  11410000  7420         4          1        2      yes       yes      yes   \n",
              "\n",
              "  hotwaterheating airconditioning  parking prefarea furnishingstatus  \n",
              "0              no             yes        2      yes        furnished  \n",
              "1              no             yes        3       no        furnished  \n",
              "2              no              no        2      yes   semi-furnished  \n",
              "3              no             yes        3      yes        furnished  \n",
              "4              no             yes        2       no        furnished  "
            ]
          },
          "execution_count": 3,
          "metadata": {},
          "output_type": "execute_result"
        }
      ],
      "source": [
        "#Calling the dataset\n",
        "file_path = r\"C:\\Users\\aaron\\Documents\\Python Code\\Datasets\\Housing.csv\"\n",
        "housing = pd.read_csv(file_path)\n",
        "housing.head()"
      ]
    },
    {
      "cell_type": "code",
      "execution_count": 4,
      "metadata": {
        "colab": {
          "base_uri": "https://localhost:8080/",
          "height": 226
        },
        "id": "OaNTWmvsn0X1",
        "outputId": "da709cdd-4a24-4191-8ef5-288e6b40d17a"
      },
      "outputs": [
        {
          "data": {
            "text/html": [
              "<div>\n",
              "<style scoped>\n",
              "    .dataframe tbody tr th:only-of-type {\n",
              "        vertical-align: middle;\n",
              "    }\n",
              "\n",
              "    .dataframe tbody tr th {\n",
              "        vertical-align: top;\n",
              "    }\n",
              "\n",
              "    .dataframe thead th {\n",
              "        text-align: right;\n",
              "    }\n",
              "</style>\n",
              "<table border=\"1\" class=\"dataframe\">\n",
              "  <thead>\n",
              "    <tr style=\"text-align: right;\">\n",
              "      <th></th>\n",
              "      <th>price</th>\n",
              "      <th>area</th>\n",
              "      <th>bedrooms</th>\n",
              "      <th>bathrooms</th>\n",
              "      <th>stories</th>\n",
              "      <th>mainroad</th>\n",
              "      <th>guestroom</th>\n",
              "      <th>basement</th>\n",
              "      <th>hotwaterheating</th>\n",
              "      <th>airconditioning</th>\n",
              "      <th>parking</th>\n",
              "      <th>prefarea</th>\n",
              "      <th>furnishingstatus</th>\n",
              "    </tr>\n",
              "  </thead>\n",
              "  <tbody>\n",
              "    <tr>\n",
              "      <th>0</th>\n",
              "      <td>13300000</td>\n",
              "      <td>7420</td>\n",
              "      <td>4</td>\n",
              "      <td>2</td>\n",
              "      <td>3</td>\n",
              "      <td>1</td>\n",
              "      <td>0</td>\n",
              "      <td>0</td>\n",
              "      <td>0</td>\n",
              "      <td>1</td>\n",
              "      <td>2</td>\n",
              "      <td>1</td>\n",
              "      <td>1</td>\n",
              "    </tr>\n",
              "    <tr>\n",
              "      <th>1</th>\n",
              "      <td>12250000</td>\n",
              "      <td>8960</td>\n",
              "      <td>4</td>\n",
              "      <td>4</td>\n",
              "      <td>4</td>\n",
              "      <td>1</td>\n",
              "      <td>0</td>\n",
              "      <td>0</td>\n",
              "      <td>0</td>\n",
              "      <td>1</td>\n",
              "      <td>3</td>\n",
              "      <td>0</td>\n",
              "      <td>1</td>\n",
              "    </tr>\n",
              "    <tr>\n",
              "      <th>2</th>\n",
              "      <td>12250000</td>\n",
              "      <td>9960</td>\n",
              "      <td>3</td>\n",
              "      <td>2</td>\n",
              "      <td>2</td>\n",
              "      <td>1</td>\n",
              "      <td>0</td>\n",
              "      <td>1</td>\n",
              "      <td>0</td>\n",
              "      <td>0</td>\n",
              "      <td>2</td>\n",
              "      <td>1</td>\n",
              "      <td>0</td>\n",
              "    </tr>\n",
              "    <tr>\n",
              "      <th>3</th>\n",
              "      <td>12215000</td>\n",
              "      <td>7500</td>\n",
              "      <td>4</td>\n",
              "      <td>2</td>\n",
              "      <td>2</td>\n",
              "      <td>1</td>\n",
              "      <td>0</td>\n",
              "      <td>1</td>\n",
              "      <td>0</td>\n",
              "      <td>1</td>\n",
              "      <td>3</td>\n",
              "      <td>1</td>\n",
              "      <td>1</td>\n",
              "    </tr>\n",
              "    <tr>\n",
              "      <th>4</th>\n",
              "      <td>11410000</td>\n",
              "      <td>7420</td>\n",
              "      <td>4</td>\n",
              "      <td>1</td>\n",
              "      <td>2</td>\n",
              "      <td>1</td>\n",
              "      <td>1</td>\n",
              "      <td>1</td>\n",
              "      <td>0</td>\n",
              "      <td>1</td>\n",
              "      <td>2</td>\n",
              "      <td>0</td>\n",
              "      <td>1</td>\n",
              "    </tr>\n",
              "  </tbody>\n",
              "</table>\n",
              "</div>"
            ],
            "text/plain": [
              "      price  area  bedrooms  bathrooms  stories  mainroad  guestroom  \\\n",
              "0  13300000  7420         4          2        3         1          0   \n",
              "1  12250000  8960         4          4        4         1          0   \n",
              "2  12250000  9960         3          2        2         1          0   \n",
              "3  12215000  7500         4          2        2         1          0   \n",
              "4  11410000  7420         4          1        2         1          1   \n",
              "\n",
              "   basement  hotwaterheating  airconditioning  parking  prefarea  \\\n",
              "0         0                0                1        2         1   \n",
              "1         0                0                1        3         0   \n",
              "2         1                0                0        2         1   \n",
              "3         1                0                1        3         1   \n",
              "4         1                0                1        2         0   \n",
              "\n",
              "   furnishingstatus  \n",
              "0                 1  \n",
              "1                 1  \n",
              "2                 0  \n",
              "3                 1  \n",
              "4                 1  "
            ]
          },
          "execution_count": 4,
          "metadata": {},
          "output_type": "execute_result"
        }
      ],
      "source": [
        "#Applying a binary map\n",
        "#mapping the variables to a binary output\n",
        "varlist =  ['mainroad', 'guestroom', 'basement', 'hotwaterheating', 'airconditioning', 'prefarea', 'furnishingstatus']\n",
        "\n",
        "# Defining the map function\n",
        "def mapping(x):\n",
        "    return x.map({'yes': 1, 'no': 0, 'furnished':  1, 'semi-furnished':  0, 'unfurnished':  -1})\n",
        "\n",
        "housing[varlist] = housing[varlist].apply(mapping)\n",
        "\n",
        "housing.head()\n",
        "#housing.dtypes"
      ]
    },
    {
      "cell_type": "code",
      "execution_count": 5,
      "metadata": {
        "id": "sEXUYZx_n25W"
      },
      "outputs": [],
      "source": [
        "#Splitting the Dataset\n",
        "x1_train, x1_val = train_test_split(housing, train_size = 0.8, test_size = 0.2, random_state = 0)\n",
        "x1_train.head()\n",
        "\n",
        "#Splitting Variables\n",
        "y1_train = x1_train.pop(\"price\")\n",
        "y1_val = x1_val.pop(\"price\")\n",
        "\n",
        "y1_train = y1_train.values.reshape(-1, 1)\n",
        "y1_val = y1_val.values.reshape(-1, 1)\n",
        "#print(x1_train)\n",
        "#print(y1_train)\n",
        "#x1_train.head()\n",
        "#print(y1_val)"
      ]
    },
    {
      "cell_type": "code",
      "execution_count": 6,
      "metadata": {
        "id": "3uTPIuu8r9c-"
      },
      "outputs": [],
      "source": [
        "#Standardizing the Dataset\n",
        "\n",
        "standard = StandardScaler()\n",
        "\n",
        "vars1 = ['area', 'bedrooms', 'bathrooms', 'stories', 'parking', 'mainroad', 'guestroom', 'basement', 'hotwaterheating',\n",
        "         'airconditioning', 'prefarea', 'furnishingstatus']\n",
        "\n",
        "x1_train_stan = x1_train\n",
        "x1_train_stan[vars1] = standard.fit_transform(x1_train_stan[vars1])\n",
        "\n",
        "x1_val_stan = x1_val\n",
        "x1_val_stan[vars1] = standard.fit_transform(x1_val_stan[vars1])\n",
        "#x1_val_stan.head()"
      ]
    },
    {
      "cell_type": "code",
      "execution_count": 7,
      "metadata": {
        "colab": {
          "base_uri": "https://localhost:8080/"
        },
        "id": "7eo6VU-Ur_ev",
        "outputId": "efc2089e-5288-48c3-aaed-4cb5de15e9e3"
      },
      "outputs": [
        {
          "name": "stdout",
          "output_type": "stream",
          "text": [
            "torch.Size([436, 13])\n",
            "torch.Size([109, 13])\n",
            "torch.Size([436, 1])\n",
            "torch.Size([109, 1])\n"
          ]
        }
      ],
      "source": [
        "#Stacking them there inputs\n",
        "x1_train_stan_numpy = np.c_[np.ones((len(y1_train), 1)), x1_train_stan[vars1]]\n",
        "x1_val_stan_numpy = np.c_[np.ones((len(y1_val), 1)), x1_val_stan[vars1]]\n",
        "\n",
        "#I am become tensor destroyer of deep learning\n",
        "x1_train_ten = torch.tensor(x1_train_stan_numpy, dtype=torch.float)\n",
        "x1_val_ten = torch.tensor(x1_val_stan_numpy, dtype=torch.float)\n",
        "y1_train_ten = torch.tensor(y1_train, dtype=torch.float)\n",
        "y1_val_ten = torch.tensor(y1_val, dtype=torch.float)\n",
        "\n",
        "print(x1_train_ten.shape)\n",
        "print(x1_val_ten.shape)\n",
        "print(y1_train_ten.shape)\n",
        "print(y1_val_ten.shape)"
      ]
    },
    {
      "cell_type": "code",
      "execution_count": 8,
      "metadata": {
        "colab": {
          "base_uri": "https://localhost:8080/"
        },
        "id": "FqcXCz3ExgU2",
        "outputId": "65a79b90-c6ab-447d-e233-361460c7a6a0"
      },
      "outputs": [
        {
          "data": {
            "text/plain": [
              "Sequential(\n",
              "  (0): Linear(in_features=13, out_features=32, bias=True)\n",
              "  (1): Tanh()\n",
              "  (2): Linear(in_features=32, out_features=1, bias=True)\n",
              ")"
            ]
          },
          "execution_count": 8,
          "metadata": {},
          "output_type": "execute_result"
        }
      ],
      "source": [
        "#One singular hidden layer it has no friends :(\n",
        "\n",
        "seq_model_single = nn.Sequential(\n",
        "            nn.Linear(13, 32), # <1>\n",
        "            nn.Tanh(),\n",
        "            nn.Linear(32, 1)) # <2>\n",
        "seq_model_single"
      ]
    },
    {
      "cell_type": "code",
      "execution_count": 9,
      "metadata": {
        "colab": {
          "base_uri": "https://localhost:8080/"
        },
        "id": "m2OpiuAqyyoF",
        "outputId": "9400bcda-f465-423c-9d7a-e2a5872a61b0"
      },
      "outputs": [
        {
          "data": {
            "text/plain": [
              "[torch.Size([32, 13]), torch.Size([32]), torch.Size([1, 32]), torch.Size([1])]"
            ]
          },
          "execution_count": 9,
          "metadata": {},
          "output_type": "execute_result"
        }
      ],
      "source": [
        "[param.shape for param in seq_model_single.parameters()]"
      ]
    },
    {
      "cell_type": "code",
      "execution_count": 10,
      "metadata": {
        "colab": {
          "base_uri": "https://localhost:8080/"
        },
        "id": "OR3Q8TzUy1L7",
        "outputId": "f802b066-d18e-4378-bfd2-59a6fb1848a8"
      },
      "outputs": [
        {
          "name": "stdout",
          "output_type": "stream",
          "text": [
            "0.weight torch.Size([32, 13])\n",
            "0.bias torch.Size([32])\n",
            "2.weight torch.Size([1, 32])\n",
            "2.bias torch.Size([1])\n"
          ]
        }
      ],
      "source": [
        "for name, param in seq_model_single.named_parameters():\n",
        "    print(name, param.shape)"
      ]
    },
    {
      "cell_type": "code",
      "execution_count": 11,
      "metadata": {
        "id": "98BKgq-Cx4Jn"
      },
      "outputs": [],
      "source": [
        "#Let's define our training loop that will be used\n",
        "\n",
        "def training_loop(n_epochs, optimizer, model, loss_fn, x_train, x_val,\n",
        "                  y_train, y_val):\n",
        "    for epoch in range(1, n_epochs + 1):\n",
        "        p_train = model(x_train) # <1>\n",
        "        loss_train = loss_fn(p_train, y_train,)\n",
        "\n",
        "        p_val = model(x_val) # <1>\n",
        "        loss_val = loss_fn(p_val, y_val)\n",
        "\n",
        "        optimizer.zero_grad()\n",
        "        loss_train.backward() # <2>\n",
        "        optimizer.step()\n",
        "\n",
        "        if epoch == 1 or epoch % 1000 == 0:\n",
        "            print(f\"Epoch: {epoch}, Training loss: {loss_train.item():.4f},\"\n",
        "                  f\" Validation loss: {loss_val.item():.4f}\")"
      ]
    },
    {
      "cell_type": "code",
      "execution_count": 12,
      "metadata": {
        "colab": {
          "base_uri": "https://localhost:8080/"
        },
        "id": "M8gT6dOJym7X",
        "outputId": "5fb70893-22cc-4499-e3c0-efc27b0126c0"
      },
      "outputs": [
        {
          "name": "stdout",
          "output_type": "stream",
          "text": [
            "Epoch: 1, Training loss: 26469982011392.0000, Validation loss: 25189244993536.0000\n",
            "Epoch: 1000, Training loss: 3545950060544.0000, Validation loss: 2889591291904.0000\n",
            "Epoch: 2000, Training loss: 3538769412096.0000, Validation loss: 2890860855296.0000\n",
            "Epoch: 3000, Training loss: 3536646569984.0000, Validation loss: 2891338219520.0000\n",
            "Epoch: 4000, Training loss: 3535590916096.0000, Validation loss: 2891558420480.0000\n",
            "Epoch: 5000, Training loss: 3535000567808.0000, Validation loss: 2891685560320.0000\n"
          ]
        }
      ],
      "source": [
        "#Let's try doing some training\n",
        "\n",
        "optimizer_1 = optim.SGD(seq_model_single.parameters(), lr=1e-2)\n",
        "\n",
        "training_loop(\n",
        "    n_epochs = 5000,\n",
        "    optimizer=optimizer_1,\n",
        "    model = seq_model_single,\n",
        "    loss_fn = nn.MSELoss(),\n",
        "    x_train = x1_train_ten,\n",
        "    x_val = x1_val_ten,\n",
        "    y_train = y1_train_ten,\n",
        "    y_val = y1_val_ten\n",
        ")"
      ]
    },
    {
      "cell_type": "code",
      "execution_count": 13,
      "metadata": {
        "colab": {
          "base_uri": "https://localhost:8080/"
        },
        "id": "8Au87fK57Kfc",
        "outputId": "b432e0bc-0deb-4003-a3da-edd0e750cd3e"
      },
      "outputs": [
        {
          "data": {
            "text/plain": [
              "Sequential(\n",
              "  (0): Linear(in_features=13, out_features=32, bias=True)\n",
              "  (1): Tanh()\n",
              "  (2): Linear(in_features=32, out_features=64, bias=True)\n",
              "  (3): Tanh()\n",
              "  (4): Linear(in_features=64, out_features=16, bias=True)\n",
              "  (5): Tanh()\n",
              "  (6): Linear(in_features=16, out_features=1, bias=True)\n",
              ")"
            ]
          },
          "execution_count": 13,
          "metadata": {},
          "output_type": "execute_result"
        }
      ],
      "source": [
        "#LIFE OF THE PARTY COMING IN WITH NOT 1, NOT 2, BUT 3 HIDDEN LAYERS\n",
        "\n",
        "seq_model_multiple = nn.Sequential(\n",
        "            nn.Linear(13, 32), # <1>\n",
        "            nn.Tanh(),\n",
        "            nn.Linear(32, 64), # <2>\n",
        "            nn.Tanh(),\n",
        "            nn.Linear(64, 16), # <3>\n",
        "            nn.Tanh(),\n",
        "            nn.Linear(16,1))\n",
        "seq_model_multiple"
      ]
    },
    {
      "cell_type": "code",
      "execution_count": 14,
      "metadata": {
        "colab": {
          "base_uri": "https://localhost:8080/"
        },
        "id": "-P0mcl0L7zzn",
        "outputId": "15391820-fd03-4fc8-8565-b2084e2336a3"
      },
      "outputs": [
        {
          "data": {
            "text/plain": [
              "[torch.Size([32, 13]),\n",
              " torch.Size([32]),\n",
              " torch.Size([64, 32]),\n",
              " torch.Size([64]),\n",
              " torch.Size([16, 64]),\n",
              " torch.Size([16]),\n",
              " torch.Size([1, 16]),\n",
              " torch.Size([1])]"
            ]
          },
          "execution_count": 14,
          "metadata": {},
          "output_type": "execute_result"
        }
      ],
      "source": [
        "[param.shape for param in seq_model_multiple.parameters()]"
      ]
    },
    {
      "cell_type": "code",
      "execution_count": 15,
      "metadata": {
        "colab": {
          "base_uri": "https://localhost:8080/"
        },
        "id": "0Ne36COh71qQ",
        "outputId": "90e31f04-764f-414b-920a-4e688e8cae57"
      },
      "outputs": [
        {
          "name": "stdout",
          "output_type": "stream",
          "text": [
            "0.weight torch.Size([32, 13])\n",
            "0.bias torch.Size([32])\n",
            "2.weight torch.Size([64, 32])\n",
            "2.bias torch.Size([64])\n",
            "4.weight torch.Size([16, 64])\n",
            "4.bias torch.Size([16])\n",
            "6.weight torch.Size([1, 16])\n",
            "6.bias torch.Size([1])\n"
          ]
        }
      ],
      "source": [
        "for name, param in seq_model_multiple.named_parameters():\n",
        "    print(name, param.shape)"
      ]
    },
    {
      "cell_type": "code",
      "execution_count": 16,
      "metadata": {
        "colab": {
          "base_uri": "https://localhost:8080/"
        },
        "id": "5e0m5pTy8QGE",
        "outputId": "42b0d3b4-ad12-4921-e42a-f2046a9279ef"
      },
      "outputs": [
        {
          "name": "stdout",
          "output_type": "stream",
          "text": [
            "Epoch: 1, Training loss: 26469977817088.0000, Validation loss: 25189242896384.0000\n",
            "Epoch: 1000, Training loss: 3477441871872.0000, Validation loss: 2559888064512.0000\n",
            "Epoch: 2000, Training loss: 3477110259712.0000, Validation loss: 2559891734528.0000\n",
            "Epoch: 3000, Training loss: 3476996751360.0000, Validation loss: 2559895404544.0000\n",
            "Epoch: 4000, Training loss: 3476958216192.0000, Validation loss: 2559897501696.0000\n",
            "Epoch: 5000, Training loss: 3476944846848.0000, Validation loss: 2559898812416.0000\n"
          ]
        }
      ],
      "source": [
        "#Let's try doing some training w/friends this time\n",
        "\n",
        "optimizer_2 = optim.SGD(seq_model_multiple.parameters(), lr=1e-2)\n",
        "\n",
        "training_loop(\n",
        "    n_epochs = 5000,\n",
        "    optimizer=optimizer_2,\n",
        "    model = seq_model_multiple,\n",
        "    loss_fn = nn.MSELoss(),\n",
        "    x_train = x1_train_ten,\n",
        "    x_val = x1_val_ten,\n",
        "    y_train = y1_train_ten,\n",
        "    y_val = y1_val_ten\n",
        ")"
      ]
    }
  ],
  "metadata": {
    "accelerator": "GPU",
    "colab": {
      "authorship_tag": "ABX9TyO1w21krebGHeGEda6U4ReF",
      "gpuType": "T4",
      "include_colab_link": true,
      "provenance": []
    },
    "kernelspec": {
      "display_name": "Python 3",
      "name": "python3"
    },
    "language_info": {
      "codemirror_mode": {
        "name": "ipython",
        "version": 3
      },
      "file_extension": ".py",
      "mimetype": "text/x-python",
      "name": "python",
      "nbconvert_exporter": "python",
      "pygments_lexer": "ipython3",
      "version": "3.11.6"
    }
  },
  "nbformat": 4,
  "nbformat_minor": 0
}
