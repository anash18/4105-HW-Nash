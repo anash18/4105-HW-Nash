{
  "nbformat": 4,
  "nbformat_minor": 0,
  "metadata": {
    "colab": {
      "provenance": [],
      "authorship_tag": "ABX9TyM3pu2jiybNqUBM7jSwJiLV",
      "include_colab_link": true
    },
    "kernelspec": {
      "name": "python3",
      "display_name": "Python 3"
    },
    "language_info": {
      "name": "python"
    }
  },
  "cells": [
    {
      "cell_type": "markdown",
      "metadata": {
        "id": "view-in-github",
        "colab_type": "text"
      },
      "source": [
        "<a href=\"https://colab.research.google.com/github/anash18/4105-HW-Nash/blob/main/ECGR_4105_HW5/ECGR_4105_HW5_Problem_1.ipynb\" target=\"_parent\"><img src=\"https://colab.research.google.com/assets/colab-badge.svg\" alt=\"Open In Colab\"/></a>"
      ]
    },
    {
      "cell_type": "code",
      "execution_count": 109,
      "metadata": {
        "id": "hpW5BY9mTVfu"
      },
      "outputs": [],
      "source": [
        "import torch\n",
        "import numpy as np\n",
        "import matplotlib.pyplot as plt\n",
        "import pandas as pd\n",
        "from google.colab import drive\n",
        "from sklearn.model_selection import train_test_split\n",
        "from sklearn.preprocessing import StandardScaler\n",
        "import torch.optim as optim"
      ]
    },
    {
      "cell_type": "code",
      "source": [
        "t_c = torch.tensor([0.5, 14.0, 15.0, 28.0, 11.0, 8.0,\n",
        "                    3.0, -4.0, 6.0, 13.0, 21.0])\n",
        "t_u = torch.tensor([35.7, 55.9, 58.2, 81.9, 56.3, 48.9,\n",
        "                    33.9, 21.8, 48.4, 60.4, 68.4])\n",
        "\n",
        "#according to the textbook multiplying the tensor by 0.01 allows us\n",
        "#to achieve the input not getting to far from the range of -1.0 to 1.0\n",
        "\n",
        "t_un = 0.01 * t_u\n",
        "\n",
        "#defining the model\n",
        "def model(t_u, w2, w1, b):\n",
        "  return w2 * t_u ** 2 + w1 * t_u + b\n",
        "\n",
        "#defining the loss function\n",
        "def loss_fn(t_p, t_c):\n",
        "    squared_diffs = (t_p - t_c)**2\n",
        "    return squared_diffs.mean()\n",
        "\n",
        "#Setting up the initial parameters\n",
        "params = torch.tensor([1.0, 1.0, 0.0], requires_grad = True)\n",
        "\n",
        "#testing my loss function\n",
        "loss_test = loss_fn(model(t_un, *params), t_c)\n",
        "loss_test.backward()\n",
        "\n",
        "params.grad"
      ],
      "metadata": {
        "colab": {
          "base_uri": "https://localhost:8080/"
        },
        "id": "Pmx-cUGWUQbL",
        "outputId": "a269804d-8218-4184-c347-bcc9ec7a5857"
      },
      "execution_count": 110,
      "outputs": [
        {
          "output_type": "execute_result",
          "data": {
            "text/plain": [
              "tensor([ -8.4735, -12.6975, -19.3758])"
            ]
          },
          "metadata": {},
          "execution_count": 110
        }
      ]
    },
    {
      "cell_type": "code",
      "source": [
        "#testing the optimizer\n",
        "\n",
        "learning_rate_SGD1_test = 0.1\n",
        "optimizer_SGD1_test = optim.SGD([params], lr=learning_rate_SGD1_test)\n",
        "\n",
        "#prediction tensor\n",
        "t_p_SGD_test = model(t_un, *params)\n",
        "loss_SGD_test = loss_fn(t_p_SGD_test, t_c)\n",
        "\n",
        "optimizer_SGD1_test.zero_grad()\n",
        "loss_SGD_test.backward()\n",
        "optimizer_SGD1_test.step()\n",
        "\n",
        "params"
      ],
      "metadata": {
        "colab": {
          "base_uri": "https://localhost:8080/"
        },
        "id": "u0U7Yzk5Zf2m",
        "outputId": "48a51551-4e5f-4300-a474-9861dcf6ffc5"
      },
      "execution_count": 111,
      "outputs": [
        {
          "output_type": "execute_result",
          "data": {
            "text/plain": [
              "tensor([1.8474, 2.2698, 1.9376], requires_grad=True)"
            ]
          },
          "metadata": {},
          "execution_count": 111
        }
      ]
    },
    {
      "cell_type": "code",
      "source": [
        "#defining a training loop\n",
        "def training_loop(n_epochs, optimizer, params, t_u, t_c):\n",
        "  for epoch in range (1, n_epochs +1):\n",
        "\n",
        "    if params.grad is not None:  # <1>\n",
        "            params.grad.zero_()\n",
        "\n",
        "    t_p = model(t_u, *params)\n",
        "    loss = loss_fn(t_p, t_c)\n",
        "\n",
        "    optimizer.zero_grad()\n",
        "    loss.backward()\n",
        "    optimizer.step()\n",
        "\n",
        "    if epoch % 500 == 0:\n",
        "     print('Epoch %d, Loss %f' % (epoch, float(loss)))\n",
        "  return params"
      ],
      "metadata": {
        "id": "xksIqTsZcLP4"
      },
      "execution_count": 112,
      "outputs": []
    },
    {
      "cell_type": "code",
      "source": [
        "#SGD Number 1 learning rate of 0.1\n",
        "learning_rate_SGD1 = 0.1\n",
        "params = torch.tensor([1.0, 1.0, 0.0], requires_grad = True)\n",
        "optimizer_SGD1 = optim.SGD([params], lr=learning_rate_SGD1)\n",
        "\n",
        "training_loop(\n",
        "    n_epochs = 5000,\n",
        "    optimizer = optimizer_SGD1,\n",
        "    params = params,\n",
        "    t_u = t_un,\n",
        "    t_c = t_c,\n",
        ")"
      ],
      "metadata": {
        "colab": {
          "base_uri": "https://localhost:8080/"
        },
        "id": "R0qYT-j9cg2H",
        "outputId": "b3db396b-1865-4466-b0de-301f32c000bf"
      },
      "execution_count": 100,
      "outputs": [
        {
          "output_type": "stream",
          "name": "stdout",
          "text": [
            "Epoch 500, Loss 2.108456\n",
            "Epoch 1000, Loss 2.090728\n",
            "Epoch 1500, Loss 2.090720\n",
            "Epoch 2000, Loss 2.090720\n",
            "Epoch 2500, Loss 2.090721\n",
            "Epoch 3000, Loss 2.090719\n",
            "Epoch 3500, Loss 2.090720\n",
            "Epoch 4000, Loss 2.090720\n",
            "Epoch 4500, Loss 2.090720\n",
            "Epoch 5000, Loss 2.090720\n"
          ]
        },
        {
          "output_type": "execute_result",
          "data": {
            "text/plain": [
              "tensor([ 28.3420,  24.7210, -10.6403], requires_grad=True)"
            ]
          },
          "metadata": {},
          "execution_count": 100
        }
      ]
    },
    {
      "cell_type": "code",
      "source": [
        "#SGD Number 2 learning rate of 0.01\n",
        "learning_rate_SGD2 = 0.01\n",
        "params = torch.tensor([1.0, 1.0, 0.0], requires_grad = True)\n",
        "optimizer_SGD2 = optim.SGD([params], lr=learning_rate_SGD2)\n",
        "\n",
        "training_loop(\n",
        "    n_epochs = 5000,\n",
        "    optimizer = optimizer_SGD2,\n",
        "    params = params,\n",
        "    t_u = t_un,\n",
        "    t_c = t_c,\n",
        ")"
      ],
      "metadata": {
        "colab": {
          "base_uri": "https://localhost:8080/"
        },
        "id": "bbkZw--Nilt-",
        "outputId": "3dfa46eb-65ca-4871-83f8-a919838d6073"
      },
      "execution_count": 101,
      "outputs": [
        {
          "output_type": "stream",
          "name": "stdout",
          "text": [
            "Epoch 500, Loss 26.266186\n",
            "Epoch 1000, Loss 12.949670\n",
            "Epoch 1500, Loss 6.968258\n",
            "Epoch 2000, Loss 4.281574\n",
            "Epoch 2500, Loss 3.074787\n",
            "Epoch 3000, Loss 2.532740\n",
            "Epoch 3500, Loss 2.289264\n",
            "Epoch 4000, Loss 2.179901\n",
            "Epoch 4500, Loss 2.130778\n",
            "Epoch 5000, Loss 2.108713\n"
          ]
        },
        {
          "output_type": "execute_result",
          "data": {
            "text/plain": [
              "tensor([ 27.9050,  24.3412, -10.3017], requires_grad=True)"
            ]
          },
          "metadata": {},
          "execution_count": 101
        }
      ]
    },
    {
      "cell_type": "code",
      "source": [
        "#SGD Number 3 learning rate of 0.001\n",
        "learning_rate_SGD3 = 0.001\n",
        "params = torch.tensor([1.0, 1.0, 0.0], requires_grad = True)\n",
        "optimizer_SGD3 = optim.SGD([params], lr=learning_rate_SGD3)\n",
        "\n",
        "training_loop(\n",
        "    n_epochs = 5000,\n",
        "    optimizer = optimizer_SGD3,\n",
        "    params = params,\n",
        "    t_u = t_un,\n",
        "    t_c = t_c,\n",
        ")"
      ],
      "metadata": {
        "colab": {
          "base_uri": "https://localhost:8080/"
        },
        "id": "FjW1hyMVi07u",
        "outputId": "fc4b9d15-bc7e-4d91-d5fb-926942b520fe"
      },
      "execution_count": 102,
      "outputs": [
        {
          "output_type": "stream",
          "name": "stdout",
          "text": [
            "Epoch 500, Loss 58.822189\n",
            "Epoch 1000, Loss 48.348232\n",
            "Epoch 1500, Loss 44.396774\n",
            "Epoch 2000, Loss 41.118404\n",
            "Epoch 2500, Loss 38.115955\n",
            "Epoch 3000, Loss 35.345898\n",
            "Epoch 3500, Loss 32.788918\n",
            "Epoch 4000, Loss 30.428556\n",
            "Epoch 4500, Loss 28.249678\n",
            "Epoch 5000, Loss 26.238340\n"
          ]
        },
        {
          "output_type": "execute_result",
          "data": {
            "text/plain": [
              "tensor([11.6079, 11.5393,  1.5983], requires_grad=True)"
            ]
          },
          "metadata": {},
          "execution_count": 102
        }
      ]
    },
    {
      "cell_type": "code",
      "source": [
        "#SGD Number 4 learning rate of 0.0001\n",
        "learning_rate_SGD4 = 0.0001\n",
        "params = torch.tensor([1.0, 1.0, 0.0], requires_grad = True)\n",
        "optimizer_SGD4 = optim.SGD([params], lr=learning_rate_SGD4)\n",
        "\n",
        "training_loop(\n",
        "    n_epochs = 5000,\n",
        "    optimizer = optimizer_SGD4,\n",
        "    params = params,\n",
        "    t_u = t_un,\n",
        "    t_c = t_c,\n",
        ")"
      ],
      "metadata": {
        "colab": {
          "base_uri": "https://localhost:8080/"
        },
        "id": "D1C2KTEbi_Wv",
        "outputId": "c7a9cefd-b51a-4d1b-ad18-82de4d4f8b6d"
      },
      "execution_count": 103,
      "outputs": [
        {
          "output_type": "stream",
          "name": "stdout",
          "text": [
            "Epoch 500, Loss 138.825058\n",
            "Epoch 1000, Loss 118.428955\n",
            "Epoch 1500, Loss 102.817139\n",
            "Epoch 2000, Loss 90.845161\n",
            "Epoch 2500, Loss 81.642403\n",
            "Epoch 3000, Loss 74.546761\n",
            "Epoch 3500, Loss 69.054512\n",
            "Epoch 4000, Loss 64.782639\n",
            "Epoch 4500, Loss 61.439720\n",
            "Epoch 5000, Loss 58.804115\n"
          ]
        },
        {
          "output_type": "execute_result",
          "data": {
            "text/plain": [
              "tensor([3.7440, 4.8014, 4.9612], requires_grad=True)"
            ]
          },
          "metadata": {},
          "execution_count": 103
        }
      ]
    },
    {
      "cell_type": "code",
      "source": [
        "#Adam Number 1 learning rate of 0.1\n",
        "learning_rate_adam1 = 0.1\n",
        "params = torch.tensor([1.0, 1.0, 0.0], requires_grad = True)\n",
        "optimizer_adam1 = optim.Adam([params], lr=learning_rate_adam1)\n",
        "\n",
        "training_loop(\n",
        "    n_epochs = 5000,\n",
        "    optimizer = optimizer_adam1,\n",
        "    params = params,\n",
        "    t_u = t_un,\n",
        "    t_c = t_c,\n",
        ")"
      ],
      "metadata": {
        "colab": {
          "base_uri": "https://localhost:8080/"
        },
        "id": "f--35wn0mvXt",
        "outputId": "bdfd6737-8bf0-41b0-d133-dbb2d063f74f"
      },
      "execution_count": 104,
      "outputs": [
        {
          "output_type": "stream",
          "name": "stdout",
          "text": [
            "Epoch 500, Loss 7.720606\n",
            "Epoch 1000, Loss 2.183957\n",
            "Epoch 1500, Loss 2.105043\n",
            "Epoch 2000, Loss 2.103428\n",
            "Epoch 2500, Loss 2.101665\n",
            "Epoch 3000, Loss 2.099716\n",
            "Epoch 3500, Loss 2.097688\n",
            "Epoch 4000, Loss 2.095724\n",
            "Epoch 4500, Loss 2.093984\n",
            "Epoch 5000, Loss 2.092600\n"
          ]
        },
        {
          "output_type": "execute_result",
          "data": {
            "text/plain": [
              "tensor([ 29.6354,  23.3667, -10.3189], requires_grad=True)"
            ]
          },
          "metadata": {},
          "execution_count": 104
        }
      ]
    },
    {
      "cell_type": "code",
      "source": [
        "#Adam Number 2 learning rate of 0.01\n",
        "learning_rate_adam2 = 0.01\n",
        "params = torch.tensor([1.0, 1.0, 0.0], requires_grad = True)\n",
        "optimizer_adam2 = optim.Adam([params], lr=learning_rate_adam2)\n",
        "\n",
        "training_loop(\n",
        "    n_epochs = 5000,\n",
        "    optimizer = optimizer_adam2,\n",
        "    params = params,\n",
        "    t_u = t_un,\n",
        "    t_c = t_c,\n",
        ")"
      ],
      "metadata": {
        "colab": {
          "base_uri": "https://localhost:8080/"
        },
        "id": "TYBItjXEmv56",
        "outputId": "b6a2bdbe-ca3a-4cf2-d8eb-b5387cd19f54"
      },
      "execution_count": 105,
      "outputs": [
        {
          "output_type": "stream",
          "name": "stdout",
          "text": [
            "Epoch 500, Loss 57.949375\n",
            "Epoch 1000, Loss 40.551365\n",
            "Epoch 1500, Loss 33.974369\n",
            "Epoch 2000, Loss 27.274963\n",
            "Epoch 2500, Loss 20.752810\n",
            "Epoch 3000, Loss 14.940594\n",
            "Epoch 3500, Loss 10.199280\n",
            "Epoch 4000, Loss 6.687758\n",
            "Epoch 4500, Loss 4.367293\n",
            "Epoch 5000, Loss 3.038020\n"
          ]
        },
        {
          "output_type": "execute_result",
          "data": {
            "text/plain": [
              "tensor([27.2414, 19.8351, -7.6692], requires_grad=True)"
            ]
          },
          "metadata": {},
          "execution_count": 105
        }
      ]
    },
    {
      "cell_type": "code",
      "source": [
        "#Adam Number 3 learning rate of 0.0001\n",
        "learning_rate_adam3 = 0.0001\n",
        "params = torch.tensor([1.0, 1.0, 0.0], requires_grad = True)\n",
        "optimizer_adam3 = optim.Adam([params], lr=learning_rate_adam3)\n",
        "\n",
        "training_loop(\n",
        "    n_epochs = 5000,\n",
        "    optimizer = optimizer_adam3,\n",
        "    params = params,\n",
        "    t_u = t_un,\n",
        "    t_c = t_c,\n",
        ")"
      ],
      "metadata": {
        "colab": {
          "base_uri": "https://localhost:8080/"
        },
        "id": "TgDcS02omwMg",
        "outputId": "bd057bbf-856b-4f88-efea-b563ed9b39d1"
      },
      "execution_count": 106,
      "outputs": [
        {
          "output_type": "stream",
          "name": "stdout",
          "text": [
            "Epoch 500, Loss 163.438293\n",
            "Epoch 1000, Loss 161.446915\n",
            "Epoch 1500, Loss 159.478012\n",
            "Epoch 2000, Loss 157.530380\n",
            "Epoch 2500, Loss 155.602768\n",
            "Epoch 3000, Loss 153.694489\n",
            "Epoch 3500, Loss 151.804749\n",
            "Epoch 4000, Loss 149.932922\n",
            "Epoch 4500, Loss 148.078751\n",
            "Epoch 5000, Loss 146.241913\n"
          ]
        },
        {
          "output_type": "execute_result",
          "data": {
            "text/plain": [
              "tensor([1.4952, 1.4946, 0.4935], requires_grad=True)"
            ]
          },
          "metadata": {},
          "execution_count": 106
        }
      ]
    },
    {
      "cell_type": "code",
      "source": [
        "#Adam Number 4 learning rate of 0.00001\n",
        "learning_rate_adam4 = 0.00001\n",
        "params = torch.tensor([1.0, 1.0, 0.0], requires_grad = True)\n",
        "optimizer_adam4 = optim.Adam([params], lr=learning_rate_adam4)\n",
        "\n",
        "training_loop(\n",
        "    n_epochs = 5000,\n",
        "    optimizer = optimizer_adam4,\n",
        "    params = params,\n",
        "    t_u = t_un,\n",
        "    t_c = t_c,\n",
        ")"
      ],
      "metadata": {
        "colab": {
          "base_uri": "https://localhost:8080/"
        },
        "id": "H2-hVr_1mwYT",
        "outputId": "c580f3ff-17ba-4d14-c732-d90106637a36"
      },
      "execution_count": 107,
      "outputs": [
        {
          "output_type": "stream",
          "name": "stdout",
          "text": [
            "Epoch 500, Loss 165.247131\n",
            "Epoch 1000, Loss 165.044571\n",
            "Epoch 1500, Loss 164.842194\n",
            "Epoch 2000, Loss 164.640030\n",
            "Epoch 2500, Loss 164.438049\n",
            "Epoch 3000, Loss 164.236237\n",
            "Epoch 3500, Loss 164.034607\n",
            "Epoch 4000, Loss 163.833160\n",
            "Epoch 4500, Loss 163.631897\n",
            "Epoch 5000, Loss 163.430771\n"
          ]
        },
        {
          "output_type": "execute_result",
          "data": {
            "text/plain": [
              "tensor([1.0501, 1.0501, 0.0499], requires_grad=True)"
            ]
          },
          "metadata": {},
          "execution_count": 107
        }
      ]
    },
    {
      "cell_type": "code",
      "source": [
        "#BEST PARAMETERS :D\n",
        "\n",
        "#SGD Number 1 learning rate of 0.1\n",
        "learning_rate_SGD1 = 0.1\n",
        "params = torch.tensor([1.0, 1.0, 0.0], requires_grad = True)\n",
        "optimizer_SGD1 = optim.SGD([params], lr=learning_rate_SGD1)\n",
        "\n",
        "optimal_params = training_loop(\n",
        "    n_epochs = 5000,\n",
        "    optimizer = optimizer_SGD1,\n",
        "    params = params,\n",
        "    t_u = t_un,\n",
        "    t_c = t_c,\n",
        ")\n",
        "\n",
        "print(\"\\nThe best parameters for this problem were from the SGD with a learning rate of 0.1 which \\ngave: \\n\", optimal_params)"
      ],
      "metadata": {
        "colab": {
          "base_uri": "https://localhost:8080/"
        },
        "id": "ERXoM_3SsKk6",
        "outputId": "77daa4e8-fbcb-45a5-b87b-8fbf8d01c5ef"
      },
      "execution_count": 108,
      "outputs": [
        {
          "output_type": "stream",
          "name": "stdout",
          "text": [
            "Epoch 500, Loss 2.108456\n",
            "Epoch 1000, Loss 2.090728\n",
            "Epoch 1500, Loss 2.090720\n",
            "Epoch 2000, Loss 2.090720\n",
            "Epoch 2500, Loss 2.090721\n",
            "Epoch 3000, Loss 2.090719\n",
            "Epoch 3500, Loss 2.090720\n",
            "Epoch 4000, Loss 2.090720\n",
            "Epoch 4500, Loss 2.090720\n",
            "Epoch 5000, Loss 2.090720\n",
            "\n",
            "The best parameters for this problem were from the SGD with a learning rate of 0.1 which \n",
            "gave: \n",
            " tensor([ 28.3420,  24.7210, -10.6403], requires_grad=True)\n"
          ]
        }
      ]
    },
    {
      "cell_type": "code",
      "source": [
        "#Time to plot much like someone in an autocad drawing trying to print out a piece of paper\n",
        "\n",
        "final_p = model(0.01 * t_u, *optimal_params)\n",
        "w1_slides = 5.3671\n",
        "b_slides = -17.3012\n",
        "p_slides = (w1_slides * (0.1 * t_u) + b_slides)\n",
        "\n",
        "#reordering to make the graph look pretty O_- <- this is a winky face\n",
        "t_un_order, index = torch.sort(t_u)\n",
        "final_p_order, index = torch.sort(final_p)\n",
        "final_slides_order, index = torch.sort(p_slides)\n",
        "\n",
        "plt.plot(t_un_order.detach().numpy(), final_p_order.detach().numpy(), label = \"Polynomial Model\", c = \"r\", marker = \"o\")\n",
        "plt.plot(t_un_order.detach().numpy(), final_slides_order.detach().numpy(), label = \"Linear Model\", c = 'g', marker = \"D\")\n",
        "plt.scatter(t_u.detach().numpy(), t_c.detach().numpy(), label = \"Ground Truth\", c = 'b', marker = 'x')\n",
        "plt.xlabel(\"Farenheight\")\n",
        "plt.ylabel(\"Celcius\")\n",
        "plt.legend()\n",
        "plt.title(\"Comparing the Polynomial Model to the Linear Model\")\n",
        "plt.show()"
      ],
      "metadata": {
        "colab": {
          "base_uri": "https://localhost:8080/",
          "height": 472
        },
        "id": "GrKShUGWsyY4",
        "outputId": "109e7697-bf4f-47d1-9507-26fc6de9e28c"
      },
      "execution_count": 115,
      "outputs": [
        {
          "output_type": "display_data",
          "data": {
            "text/plain": [
              "<Figure size 640x480 with 1 Axes>"
            ],
            "image/png": "[encoded data removed]"
          },
          "metadata": {}
        }
      ]
    }
  ]
}